{
 "cells": [
  {
   "cell_type": "code",
   "execution_count": 35,
   "metadata": {},
   "outputs": [],
   "source": [
    "# This method takes the input file name and returns the text from whole file\n",
    "# If the notebook and file toread are not in the same directory, the whole path with file name is required\n",
    "def load_file(filename):\n",
    "    file = open(filename, mode='rt', encoding='utf-8')\n",
    "    text = file.read()\n",
    "    file.close()\n",
    "    return text"
   ]
  },
  {
   "cell_type": "code",
   "execution_count": 36,
   "metadata": {},
   "outputs": [],
   "source": [
    "# This method creates list of pair of sentences where each sentence is a list of token\n",
    "def generatePair(text1, text2):\n",
    "    pairs = []\n",
    "    text1 = text1.lower().strip().split(\"\\n\")\n",
    "    text2 = text2.lower().strip().split(\"\\n\")\n",
    "    for index, eSentence in enumerate(text1):\n",
    "        pairs.append((text2[index].split(), text1[index].split()))\n",
    "    return pairs"
   ]
  },
  {
   "cell_type": "code",
   "execution_count": 37,
   "metadata": {},
   "outputs": [],
   "source": [
    "# This method generates all translation probability using IBM 1 model\n",
    "# it iterates until all translation probability difference(previous and current) are less than a threshold \n",
    "def calculateTranslationProbability(pairs, threshold):\n",
    "    currentTranslationProbability = calculateUniformTranslationProbabilities(pairs)\n",
    "    previousTranslationProbability = {}\n",
    "    \n",
    "    iteratoinCount =0;\n",
    "    while not IsTranslationProbConverged(previousTranslationProbability, currentTranslationProbability, threshold):\n",
    "        previousTranslationProbability = currentTranslationProbability.copy()\n",
    "        \n",
    "        countFE = {}\n",
    "        totalE = {}\n",
    "        #Initialize all count(f,e) and total(e) to 0\n",
    "        for pair in pairs:\n",
    "            for wordF in pair[0]:\n",
    "                for wordE in pair[1]:\n",
    "                    countFE[wordF + \"|\" + wordE] = 0\n",
    "                    totalE[wordE] = 0\n",
    "        for pair in pairs:\n",
    "            for wordF in pair[0]:\n",
    "                sumF = 0\n",
    "                for wordE in pair[1]:\n",
    "                    sumF += currentTranslationProbability[wordF + \"|\" + wordE]\n",
    "                for wordE in pair[1]:\n",
    "                    countFE[wordF + \"|\" + wordE] += (currentTranslationProbability[wordF + \"|\" + wordE] / sumF)\n",
    "                    totalE[wordE] +=  (currentTranslationProbability[wordF + \"|\" + wordE] / sumF)\n",
    "        for key in currentTranslationProbability:\n",
    "            tmpKeys = key.split('|')\n",
    "            currentTranslationProbability[key] = countFE[key] / totalE[tmpKeys[1]]\n",
    "        iteratoinCount += 1\n",
    "#        if iteratoinCount % 100 == 0:\n",
    "#            print(\"************Current Iteration Count: \", iteratoinCount)\n",
    "    return currentTranslationProbability;"
   ]
  },
  {
   "cell_type": "code",
   "execution_count": 38,
   "metadata": {},
   "outputs": [],
   "source": [
    "# This method generates initial posterior probability P(f|e) uniformly \n",
    "# by counting count(f,e) and count(e) in the whole data set\n",
    "def calculateUniformTranslationProbabilities(pairs):\n",
    "    uniformPosterior = {}\n",
    "    FECount = {}\n",
    "    ECount = {}\n",
    "    for pair in pairs:\n",
    "        for wordF in pair[0]:\n",
    "            for wordE in pair[1]:\n",
    "                key = wordF + \"|\" + wordE\n",
    "                if key in FECount.keys():\n",
    "                    FECount[key] += FECount[key]\n",
    "                else:\n",
    "                    FECount[key] = 1\n",
    "                    \n",
    "                if wordE in ECount.keys():\n",
    "                    ECount[wordE] += 1\n",
    "                else:\n",
    "                    ECount[wordE] = 1\n",
    "    \n",
    "    for pair in pairs:\n",
    "        for wordF in pair[0]:\n",
    "            for wordE in pair[1]:\n",
    "                key = wordF + \"|\" + wordE\n",
    "                try:\n",
    "                    uniformPosterior[key] = FECount[key] / ECount[wordE]\n",
    "                except:\n",
    "                    uniformPosterior[key] = 0.000001\n",
    "\n",
    "    return uniformPosterior"
   ]
  },
  {
   "cell_type": "code",
   "execution_count": 39,
   "metadata": {},
   "outputs": [],
   "source": [
    "# This method checks whether two translation probability dictionary are \n",
    "# equal or within a threshold difference or not\n",
    "def IsTranslationProbConverged(previousTranslationProbabilities, currentTranslationProbabilities, threshold):\n",
    "    if(len(previousTranslationProbabilities) == 0 or len(currentTranslationProbabilities) == 0):\n",
    "        return False\n",
    "    if previousTranslationProbabilities == currentTranslationProbabilities:\n",
    "        return True\n",
    "    else:\n",
    "        for key in previousTranslationProbabilities:\n",
    "            if abs(previousTranslationProbabilities[key] - currentTranslationProbabilities[key]) > threshold :\n",
    "                return False\n",
    "            \n",
    "        return True"
   ]
  },
  {
   "cell_type": "code",
   "execution_count": 47,
   "metadata": {},
   "outputs": [],
   "source": [
    "# This method reuturns the best alignment of word in a pair of sentence\n",
    "def calculateAlignment(translationProbability, pairs):\n",
    "    \n",
    "    alignedWordList = []\n",
    "    alignedWordIndextList = []\n",
    "    for pair in pairs:\n",
    "        alignedWordListPerPair = dict()\n",
    "        alignedWordIndextListPerPair = []\n",
    "        for index1, wordF in enumerate(pair[0]):\n",
    "            bestAlignment = 0;\n",
    "            bestAligedWord = \"\"\n",
    "            bestAligedWordIndex = 0\n",
    "            \n",
    "            for index2, wordE in enumerate(pair[1]):\n",
    "                key = wordF + \"|\" + wordE\n",
    "                if translationProbability[key] > bestAlignment :\n",
    "                    bestAlignment = translationProbability[key]\n",
    "                    bestAligedWord = wordE\n",
    "                    bestAligedWordIndex = index2\n",
    "                    \n",
    "            alignedWordListPerPair[(wordF, bestAligedWord)] = bestAlignment\n",
    "            alignedWordIndextListPerPair. append((index1, bestAligedWordIndex))\n",
    "            \n",
    "        alignedWordList.append(alignedWordListPerPair)\n",
    "        alignedWordIndextList.append(alignedWordIndextListPerPair)\n",
    "        \n",
    "    return alignedWordList, alignedWordIndextList"
   ]
  },
  {
   "cell_type": "markdown",
   "metadata": {},
   "source": [
    "## Problem 1"
   ]
  },
  {
   "cell_type": "code",
   "execution_count": 41,
   "metadata": {},
   "outputs": [],
   "source": [
    "germanText = load_file('de-en/de-en.de')\n",
    "englishText = load_file('de-en/de-en.en')\n",
    "pairs = generatePair(englishText, germanText)\n",
    "translationProb = calculateTranslationProbability(pairs, 0.001)"
   ]
  },
  {
   "cell_type": "markdown",
   "metadata": {},
   "source": [
    "### Analysis and Data Sturcture used\n",
    "All of the translation probabilities are stored in a dictionary with key as string of f|e . Since using a sparse matrix will take more space, i used here dictionary. For spare matrix, it will take (numberUniqueofEnglishword * numberOfUniqueGermanWord) cells"
   ]
  },
  {
   "cell_type": "markdown",
   "metadata": {},
   "source": [
    "## Problem 2"
   ]
  },
  {
   "cell_type": "code",
   "execution_count": 45,
   "metadata": {},
   "outputs": [
    {
     "name": "stdout",
     "output_type": "stream",
     "text": [
      "Alignment Probability::  {('reprise', 'session'): 0.5, ('de', 'session'): 0.45643054327147176, ('la', 'session'): 0.3548964891529032, ('session', 'session'): 0.5}\n",
      "Alignment::  [(0, 3), (1, 3), (2, 3), (3, 3)]\n",
      "Alignment Probability::  {('je', '.'): 0.99017164383373, ('déclare', '.'): 0.07751931914226108, ('reprise', '.'): 0.5, ('la', '.'): 0.3099292239925069, ('session', '.'): 0.5, ('du', '.'): 0.25796567488196975, ('parlement', '.'): 1.0, ('européen', '.'): 0.2662907774759793, ('qui', '.'): 0.16871712371585584, ('avait', '.'): 0.07751931914226108, ('été', '.'): 0.13346568399152908, ('interrompue', '.'): 0.07751931914226108, ('le', '.'): 0.1951596361717784, ('vendredi', '.'): 0.5, ('17', '.'): 0.5597170916694157, ('décembre', '.'): 0.61965197999123, ('dernier', '.'): 0.5, ('et', '.'): 0.9596941181462424, ('vous', '.'): 1.0, ('renouvelle', '.'): 0.07751931914226108, ('tous', '.'): 0.07751931914226108, ('mes', '.'): 0.07323201155729638, ('vux', '.'): 0.33370643195200134, ('en', '.'): 0.4081206532335066, ('espérant', '.'): 0.07751931914226108, ('que', '.'): 0.7674626050951318, ('avez', '.'): 0.07751931914226108, ('passé', '.'): 0.07751931914226108, ('de', '.'): 0.45643054327147176, ('bonnes', '.'): 0.07751931914226108, ('vacances', '.'): 0.07751931914226108, ('.', '.'): 1.0}\n",
      "Alignment::  [(0, 39), (1, 39), (2, 39), (3, 39), (4, 39), (5, 39), (6, 39), (7, 39), (8, 39), (9, 39), (10, 39), (11, 39), (12, 39), (13, 39), (14, 39), (15, 39), (16, 39), (17, 39), (18, 39), (19, 39), (20, 39), (21, 39), (22, 39), (23, 39), (24, 39), (25, 39), (26, 39), (27, 39), (28, 39), (29, 39), (30, 39), (31, 39), (32, 39), (33, 39)]\n",
      "Alignment Probability::  {('comme', '.'): 0.18012229337540267, ('vous', '.'): 1.0, ('avez', '.'): 0.06639500457116268, ('pu', '.'): 0.1292399300564155, ('le', '.'): 0.2419367594368134, ('constater', '.'): 0.06639500457116268, (',', '.'): 0.9845890920465595, ('grand', '.'): 0.06639500457116278, ('\"', '.'): 0.13279000914232536, ('bogue', '.'): 0.06639500457116268, ('de', '.'): 0.7111902658803421, (\"l'\", '.'): 0.29287183278971257, ('an', '.'): 0.06639500457116278, ('2000', '.'): 0.06639500457116268, ('ne', '.'): 0.20074502605818334, (\"s'\", '.'): 0.2850053195835322, ('est', '.'): 0.42333755760030173, ('pas', '.'): 0.3696972185874289, ('produit', '.'): 0.06639500457116268, ('.', '.'): 1.0, ('en', '.'): 0.1810353932069613, ('revanche', '.'): 0.06639500457116268, ('les', '.'): 0.5237064716249298, ('citoyens', '.'): 0.06639500457116278, (\"d'\", '.'): 0.23233999292297583, ('un', '.'): 0.43473692325152935, ('certain', '.'): 0.06639500457116268, ('nombre', '.'): 0.3637597256324719, ('nos', '.'): 0.37336167654328256, ('pays', '.'): 0.8844698624460763, ('ont', '.'): 0.47191207451659223, ('été', '.'): 0.10471745484892633, ('victimes', '.'): 0.06639500457116268, ('catastrophes', '.'): 0.6115604518203785, ('naturelles', '.'): 0.6, ('qui', '.'): 0.337180065666855, ('vraiment', '.'): 0.37644171076513133, ('terribles', '.'): 0.3539783113215954}\n",
      "Alignment::  [(0, 36), (1, 36), (2, 36), (3, 36), (4, 36), (5, 36), (6, 36), (7, 36), (8, 36), (9, 36), (10, 36), (11, 36), (12, 36), (13, 36), (14, 36), (15, 36), (16, 36), (17, 36), (18, 36), (19, 36), (20, 36), (21, 36), (22, 36), (23, 36), (24, 36), (25, 36), (26, 36), (27, 36), (28, 36), (29, 36), (30, 36), (31, 36), (32, 36), (33, 36), (34, 36), (35, 36), (36, 36), (37, 36), (38, 36), (39, 36), (40, 36), (41, 36), (42, 36), (43, 36), (44, 36), (45, 36)]\n"
     ]
    }
   ],
   "source": [
    "alignemdWord, alignment = calculateAlignment(translationProb, pairs[:3])\n",
    "for index, a in enumerate(alignemdWord):\n",
    "    print(\"Alignment Probability:: \",a)\n",
    "    print(\"Alignment:: \", alignment[index])"
   ]
  },
  {
   "cell_type": "markdown",
   "metadata": {},
   "source": [
    "In the above, The word alignment is printed in following format for each sentence pair: (german, english) : probability."
   ]
  },
  {
   "cell_type": "markdown",
   "metadata": {},
   "source": [
    "## Problem 3"
   ]
  },
  {
   "cell_type": "code",
   "execution_count": 48,
   "metadata": {},
   "outputs": [],
   "source": [
    "frenchText = load_file('fr-en/fr-en.fr')\n",
    "englishText = load_file('fr-en/fr-en.en')\n",
    "pairs = generatePair(englishText, frenchText)\n",
    "\n",
    "translationProb = calculateTranslationProbability(pairs, 0.001)\n"
   ]
  },
  {
   "cell_type": "code",
   "execution_count": 49,
   "metadata": {},
   "outputs": [
    {
     "name": "stdout",
     "output_type": "stream",
     "text": [
      "Alignment Probability::  {('reprise', 'session'): 0.5, ('de', 'of'): 0.45643054327147176, ('la', 'resumption'): 0.3548964891529032, ('session', 'session'): 0.5}\n",
      "Alignment::  [(0, 3), (1, 1), (2, 0), (3, 3)]\n",
      "Alignment Probability::  {('je', 'i'): 0.99017164383373, ('déclare', 'declare'): 0.07751931914226108, ('reprise', 'session'): 0.5, ('la', 'the'): 0.3099292239925069, ('session', 'session'): 0.5, ('du', '17'): 0.25796567488196975, ('parlement', 'parliament'): 1.0, ('européen', 'european'): 0.2662907774759793, ('qui', 'again'): 0.16871712371585584, ('avait', 'declare'): 0.07751931914226108, ('été', '17'): 0.13346568399152908, ('interrompue', 'declare'): 0.07751931914226108, ('le', 'the'): 0.1951596361717784, ('vendredi', 'friday'): 0.5, ('17', '17'): 0.5597170916694157, ('décembre', 'december'): 0.61965197999123, ('dernier', 'friday'): 0.5, ('et', 'and'): 0.9596941181462424, ('vous', 'you'): 1.0, ('renouvelle', 'declare'): 0.07751931914226108, ('tous', 'declare'): 0.07751931914226108, ('mes', 'declare'): 0.07323201155729638, ('vux', 'happy'): 0.33370643195200134, ('en', 'wish'): 0.4081206532335066, ('espérant', 'declare'): 0.07751931914226108, ('que', 'that'): 0.7674626050951318, ('avez', 'declare'): 0.07751931914226108, ('passé', 'declare'): 0.07751931914226108, ('de', 'of'): 0.45643054327147176, ('bonnes', 'declare'): 0.07751931914226108, ('vacances', 'declare'): 0.07751931914226108, ('.', '.'): 1.0}\n",
      "Alignment::  [(0, 0), (1, 1), (2, 4), (3, 3), (4, 4), (5, 12), (6, 8), (7, 7), (8, 21), (9, 1), (10, 12), (11, 1), (12, 3), (13, 11), (14, 12), (15, 13), (16, 11), (17, 16), (18, 0), (19, 24), (20, 1), (21, 1), (22, 1), (23, 26), (24, 23), (25, 1), (26, 32), (27, 24), (28, 1), (29, 1), (30, 5), (31, 1), (32, 1), (33, 39)]\n",
      "Alignment Probability::  {('comme', 'as'): 0.18012229337540267, ('vous', 'you'): 1.0, ('avez', 'dreaded'): 0.06639500457116268, ('pu', 'millennium'): 0.1292399300564155, ('le', 'failed'): 0.2419367594368134, ('constater', 'dreaded'): 0.06639500457116268, (',', ','): 0.9845890920465595, ('grand', 'dreaded'): 0.06639500457116278, ('\"', 'dreaded'): 0.13279000914232536, ('bogue', 'dreaded'): 0.06639500457116268, ('de', \"'\"): 0.7111902658803421, (\"l'\", 'as'): 0.29287183278971257, ('an', 'dreaded'): 0.06639500457116278, ('2000', 'dreaded'): 0.06639500457116268, ('ne', 'materialise'): 0.20074502605818334, (\"s'\", 'millennium'): 0.2850053195835322, ('est', 'truly'): 0.42333755760030173, ('pas', 'failed'): 0.3696972185874289, ('produit', 'dreaded'): 0.06639500457116268, ('.', '.'): 1.0, ('en', 'were'): 0.1810353932069613, ('revanche', 'dreaded'): 0.06639500457116268, ('les', 'people'): 0.5237064716249298, ('citoyens', 'dreaded'): 0.06639500457116278, (\"d'\", 'although'): 0.23233999292297583, ('un', 'a'): 0.43473692325152935, ('certain', 'dreaded'): 0.06639500457116268, ('nombre', 'number'): 0.3637597256324719, ('nos', 'materialise'): 0.37336167654328256, ('pays', 'countries'): 0.8844698624460763, ('ont', 'suffered'): 0.47191207451659223, ('été', 'dreaded'): 0.10471745484892633, ('victimes', 'dreaded'): 0.06639500457116268, ('catastrophes', 'disasters'): 0.6115604518203785, ('naturelles', 'natural'): 0.6, ('qui', 'seen'): 0.337180065666855, ('vraiment', 'truly'): 0.37644171076513133, ('terribles', 'suffered'): 0.3539783113215954}\n",
      "Alignment::  [(0, 2), (1, 3), (2, 9), (3, 11), (4, 14), (5, 9), (6, 1), (7, 14), (8, 9), (9, 9), (10, 9), (11, 10), (12, 2), (13, 9), (14, 9), (15, 9), (16, 16), (17, 11), (18, 33), (19, 14), (20, 9), (21, 36), (22, 34), (23, 9), (24, 1), (25, 20), (26, 9), (27, 0), (28, 22), (29, 9), (30, 23), (31, 10), (32, 16), (33, 25), (34, 26), (35, 9), (36, 9), (37, 10), (38, 31), (39, 30), (40, 6), (41, 26), (42, 33), (43, 9), (44, 26), (45, 36)]\n"
     ]
    }
   ],
   "source": [
    "alignemdWord, alignment = calculateAlignment(translationProb, pairs[:3])\n",
    "\n",
    "for index, a in enumerate(alignemdWord):\n",
    "    print(\"Alignment Probability:: \",a)\n",
    "    print(\"Alignment:: \", alignment[index])"
   ]
  },
  {
   "cell_type": "markdown",
   "metadata": {},
   "source": [
    "In the above, The word alignment is printed in following format for each sentence pair: (french, english) : probability."
   ]
  },
  {
   "cell_type": "code",
   "execution_count": null,
   "metadata": {},
   "outputs": [],
   "source": []
  }
 ],
 "metadata": {
  "kernelspec": {
   "display_name": "Python 3",
   "language": "python",
   "name": "python3"
  },
  "language_info": {
   "codemirror_mode": {
    "name": "ipython",
    "version": 3
   },
   "file_extension": ".py",
   "mimetype": "text/x-python",
   "name": "python",
   "nbconvert_exporter": "python",
   "pygments_lexer": "ipython3",
   "version": "3.7.4"
  }
 },
 "nbformat": 4,
 "nbformat_minor": 2
}
