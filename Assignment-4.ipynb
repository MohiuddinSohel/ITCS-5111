{
 "cells": [
  {
   "cell_type": "code",
   "execution_count": 379,
   "metadata": {},
   "outputs": [],
   "source": [
    "import nltk\n",
    "import re\n",
    "import string\n",
    "import math"
   ]
  },
  {
   "cell_type": "code",
   "execution_count": 380,
   "metadata": {},
   "outputs": [],
   "source": [
    "## This method load the input file and split it in multiple document based on the new line\n",
    "def loadFile(filename):\n",
    "    file = open(filename, mode='rt', encoding='utf-8')\n",
    "    text = file.read()\n",
    "    file.close()\n",
    "    lineList = text.splitlines()\n",
    "    lineDict = {}\n",
    "    for line in lineList:\n",
    "        tmpLine = re.split(r'\\t+', line)\n",
    "        if len(tmpLine) > 1:\n",
    "            lineDict[tmpLine[0]] = tmpLine[1].lower()\n",
    "    return lineDict"
   ]
  },
  {
   "cell_type": "code",
   "execution_count": 381,
   "metadata": {},
   "outputs": [],
   "source": [
    "## This method preprocess input file by removing punction without contraction and stemming\n",
    "def preprocessAlllines(lineDict):\n",
    "    \n",
    "    porterStemmer = nltk.PorterStemmer()\n",
    "    \n",
    "    preProcessedWord = {}\n",
    "    for index, value in lineDict.items():\n",
    "        value = value.translate(str.maketrans('', '', string.punctuation))\n",
    "        values = nltk.word_tokenize(value)\n",
    "        stemmed = [porterStemmer.stem(t) for t in values]\n",
    "        preProcessedWord[index] = stemmed\n",
    "    return preProcessedWord"
   ]
  },
  {
   "cell_type": "code",
   "execution_count": 382,
   "metadata": {},
   "outputs": [],
   "source": [
    "## This method calculates the inverted index for all document.\n",
    "## It stores the inverted index in a dictionary where key is the term and value is a sorted list containing docID\n",
    "def createInvertedIndex(tokenizedWordList):\n",
    "    invertedIndex = {}\n",
    "    documentFrequency = {}\n",
    "    termFrequencyByDocument = {}\n",
    "    for index, value in tokenizedWordList.items():\n",
    "        for word in value:\n",
    "            if word in invertedIndex.keys():\n",
    "                tmpPosting =  invertedIndex[word]\n",
    "                if index not in tmpPosting:\n",
    "                    tmpPosting.append(index)\n",
    "                    invertedIndex[word] = sorted(tmpPosting)\n",
    "                    documentFrequency[word] += 1\n",
    "            else:\n",
    "                invertedIndex[word] = [index]\n",
    "                documentFrequency[word] = 1\n",
    "            if (index, word) in termFrequencyByDocument.keys():\n",
    "                termFrequencyByDocument[index, word] += 1\n",
    "            else:\n",
    "                termFrequencyByDocument[index, word] = 1\n",
    "    return (termFrequencyByDocument, {i:documentFrequency[i] for i in sorted(documentFrequency.keys())}\n",
    "            , {i:invertedIndex[i] for i in sorted(invertedIndex.keys())})"
   ]
  },
  {
   "cell_type": "code",
   "execution_count": 383,
   "metadata": {},
   "outputs": [],
   "source": [
    "## This method calculates intersection of two posting\n",
    "def intersect(posting1, posting2):\n",
    "    i = 0\n",
    "    j = 0\n",
    "    intersection = []\n",
    "    while i != len(posting1) and j != len(posting2):\n",
    "        if posting1[i] == posting2[j]:\n",
    "            intersection.append(posting1[i])\n",
    "            i += 1\n",
    "            j += 1\n",
    "        else:\n",
    "            if posting1[i] < posting2[j]:\n",
    "                i += 1\n",
    "            else:\n",
    "                j += 1\n",
    "    return intersection"
   ]
  },
  {
   "cell_type": "code",
   "execution_count": 384,
   "metadata": {},
   "outputs": [],
   "source": [
    "# This method merges n posting list by using intersect method if the query type is AND\n",
    "# It always take the smallest posting list first based on the document frequency of each term\n",
    "def intersectNPosting(termList, documentFrequency, invertedIndex):\n",
    "    if len(termList) < 2:\n",
    "        print(\"Invalid query term lsit\")\n",
    "        return None\n",
    "    \n",
    "    tmpQueryTerm = {}\n",
    "    for term in termList:\n",
    "        tmpQueryTerm[term] = documentFrequency[term]\n",
    "\n",
    "    #sort to take the smallest posting list first    \n",
    "    tmpQueryTerm = sorted(tmpQueryTerm.items(), key=lambda x: x[1])\n",
    "    keyList = []\n",
    "    for key in tmpQueryTerm:\n",
    "        keyList.append(key[0]) \n",
    "\n",
    "    result = invertedIndex[keyList[0]]\n",
    "    i = 1\n",
    "    while i < len(keyList):\n",
    "        result = intersect(result, invertedIndex[keyList[i]])\n",
    "        i += 1\n",
    "    return result       "
   ]
  },
  {
   "cell_type": "code",
   "execution_count": 385,
   "metadata": {},
   "outputs": [],
   "source": [
    "## This method merges n posting list if the query type is the OR\n",
    "def unionNPosting(termList, documentFrequency, invertedIndex):\n",
    "    if len(termList) < 2:\n",
    "        print(\"Invalid query term lsit\")\n",
    "        return None\n",
    "    result = []\n",
    "    i = 0\n",
    "    while i < len(termList):\n",
    "        if termList[i] in invertedIndex.keys():\n",
    "            result = list(set(result + invertedIndex[termList[i]]))\n",
    "        i += 1\n",
    "    return result"
   ]
  },
  {
   "cell_type": "code",
   "execution_count": 386,
   "metadata": {},
   "outputs": [],
   "source": [
    "## This method calculates the tf idf score of each query term with the retrived document list\n",
    "## It returns a dictionary where key is a tuple of (docId, term) and value is the corresponding tf-idf score\n",
    "def calculateTFIDFScore(termList, nDocument, termFreqByDocument, invertedIndex, retrivedResult):\n",
    "    ifidfscoreList = {}\n",
    "    for docId in retrivedResult:\n",
    "        for term in termList:\n",
    "            termIinDocI = 0\n",
    "            numberOfDocWithTermI = 0\n",
    "            if (docId, term) in termFreqByDocument.keys():\n",
    "                termIinDocI = termFreqByDocument[docId, term]\n",
    "            if term in invertedIndex.keys():\n",
    "                numberOfDocWithTermI = len(invertedIndex[term])\n",
    "            tf =  termIinDocI / len(nDocument[docId]) \n",
    "            idf = math.log(len(nDocument) / numberOfDocWithTermI)\n",
    "            ifidfscoreList[docId, term] = tf * idf        \n",
    "    return ifidfscoreList"
   ]
  },
  {
   "cell_type": "code",
   "execution_count": 387,
   "metadata": {},
   "outputs": [],
   "source": [
    "## this method preprocesses the input query string and determine type of query\n",
    "## it returns a list of query term \n",
    "def preProcessQuery(queryString):\n",
    "    porterStemmer = nltk.PorterStemmer()\n",
    "    stemmed = []\n",
    "    queryType = ''\n",
    "    if \"AND\" in queryString and \"OR\" in queryString:\n",
    "        if \"(\" not in queryString:\n",
    "            return queryType, stemmed\n",
    "        compiler = re.compile(r'\\(.*?\\)')\n",
    "        stemmed = compiler.findall(queryString)\n",
    "        DNForCNFDeterminer = re.split('\\(.*?\\)', queryString)\n",
    "        \n",
    "        for dnf in DNForCNFDeterminer:\n",
    "            if \"OR\" in dnf:\n",
    "                queryType = \"ORofAND\"\n",
    "                dnfs = dnf.split()\n",
    "                if len(dnfs) > 1:\n",
    "                    d = dnfs[0]\n",
    "                    if \"OR\" in dnfs[1]:\n",
    "                        d = dnfs[1]\n",
    "                    d = d.translate(str.maketrans('', '', string.punctuation))\n",
    "                    stemmed.append(porterStemmer.stem(d).lower().strip())\n",
    "                    \n",
    "            elif \"AND\" in dnf:\n",
    "                queryType = \"ANDofOR\"\n",
    "                dnfs = dnf.split()\n",
    "                if len(dnfs) > 1:\n",
    "                    d = dnfs[0]\n",
    "                    if \"AND\" in dnfs[1]:\n",
    "                        d = dnfs[1]\n",
    "                    d = d.translate(str.maketrans('', '', string.punctuation))\n",
    "                    stemmed.append(porterStemmer.stem(d).lower().strip())\n",
    "                    \n",
    "    elif \"AND\" in queryString:\n",
    "        queryString = queryString.translate(str.maketrans('', '', string.punctuation))\n",
    "        terms = queryString.split(\"AND\")\n",
    "        stemmed = [porterStemmer.stem(t).lower().strip() for t in terms]\n",
    "        queryType = \"AND\"\n",
    "        \n",
    "    elif \"OR\" in queryString:\n",
    "        queryString = queryString.translate(str.maketrans('', '', string.punctuation))\n",
    "        terms = queryString.split(\"OR\")\n",
    "        stemmed = [porterStemmer.stem(t).lower().strip() for t in terms]\n",
    "        queryType = \"OR\"\n",
    "        \n",
    "    else:\n",
    "        print(\"Invalid query String\")\n",
    "\n",
    "    return queryType, stemmed"
   ]
  },
  {
   "cell_type": "markdown",
   "metadata": {},
   "source": [
    "## Problem 1- Inverted index of document"
   ]
  },
  {
   "cell_type": "code",
   "execution_count": 388,
   "metadata": {},
   "outputs": [
    {
     "name": "stdout",
     "output_type": "stream",
     "text": [
      "Inverted Index of all document:\n",
      " {'1': ['81582996083326976'], '100': ['81844590625304576'], '1st': ['81582996083326976'], '2': ['81716618236928000'], '2nd': ['81582996083326976'], '38': ['81716618236928000'], '3rd': ['81582996083326976'], 'a': ['81499877556760576', '81534165975171072', '81535634019323904', '81582996083326976', '81587643376336896', '81600113016971264', '81623945064890368', '81644157432643584', '81673244926685184', '81715158593966080'], 'age': ['81582996083326976'], 'aint': ['81534165975171072', '81673244926685184'], 'all': ['81656304107651072'], 'also': ['81715158593966080'], 'and': ['81499877556760576', '81587643376336896', '81656304107651072', '81673244926685184', '81715158593966080', '81716618236928000', '81736742478155778'], 'ani': ['81500716438523904'], 'asparagu': ['82650970722533376'], 'ass': ['81644157432643584'], 'at': ['81644157432643584'], 'ate': ['82650970722533376'], 'bacon': ['81736742478155778', '82650970722533376', '85032815321825280', '86441828815089664'], 'baconcheddar': ['81503002321616896'], 'banana': ['82461950231064576'], 'bandag': ['81499877556760576'], 'be': ['81534165975171072'], 'bear': ['81716618236928000'], 'beauti': ['82461950231064576'], 'befor': ['81600113016971264'], 'berri': ['81656304107651072'], 'big': ['81499877556760576'], 'biscuit': ['82650970722533376'], 'bit': ['81736742478155778'], 'bitch': ['81534165975171072'], 'blend': ['81656304107651072'], 'blue': ['81503002321616896'], 'burger': ['81535634019323904'], 'but': ['81534165975171072', '81673244926685184', '81842384404623360'], 'c': ['81715158593966080'], 'cake': ['85094773555335168'], 'call': ['81499877556760576'], 'candi': ['81716618236928000'], 'cantaloup': ['85032815321825280'], 'caramel': ['81656304107651072'], 'casserol': ['86441828815089664'], 'cater': ['81582996083326976'], 'chees': ['81503002321616896', '81507775422791680', '81534165975171072', '81535634019323904', '81577509950459904', '81582996083326976', '81587643376336896', '81673244926685184', '81736742478155778', '82650970722533376', '85032815321825280', '85094773555335168', '86441828815089664'], 'cheesecak': ['81499877556760576', '81600113016971264', '81716618236928000'], 'cheesestick': ['81644157432643584'], 'cheroke': ['81503002321616896'], 'cherri': ['81623945064890368'], 'chicken': ['81715158593966080'], 'chocol': ['81656304107651072', '85094773555335168'], 'coke': ['81623945064890368'], 'colour': ['82461950231064576'], 'cook': ['81673244926685184'], 'cooki': ['81656304107651072'], 'corner': ['81534165975171072'], 'could': ['81842384404623360'], 'cream': ['81656304107651072', '85094773555335168'], 'cri': ['81500716438523904'], 'date': ['82650970722533376'], 'decis': ['81673244926685184'], 'deck': ['86441828815089664'], 'dessert': ['81715158593966080'], 'dinner': ['81499877556760576'], 'doe': ['81716618236928000'], 'doin': ['81499877556760576'], 'down': ['81600113016971264'], 'dr': ['81623945064890368'], 'dream': ['81535634019323904'], 'drizzl': ['81715158593966080'], 'eat': ['81600113016971264', '81644157432643584'], 'egg': ['81503002321616896', '81587643376336896', '81673244926685184', '81736742478155778', '82650970722533376', '85032815321825280', '86441828815089664'], 'etc': ['81623945064890368'], 'expir': ['81716618236928000'], 'fave': ['81842384404623360'], 'fish': ['81715158593966080'], 'flavour': ['81844590625304576'], 'for': ['81499877556760576', '81715158593966080', '81716618236928000'], 'french': ['85032815321825280'], 'get': ['81644157432643584', '81716618236928000', '81842384404623360'], 'gf': ['81673244926685184'], 'good': ['81715158593966080', '82650970722533376', '86441828815089664'], 'got': ['81644157432643584'], 'great': ['81842384404623360'], 'gym': ['81500716438523904'], 'had': ['81500716438523904', '81600113016971264', '82461950231064576'], 'haha': ['81842384404623360'], 'hard': ['81673244926685184'], 'hashbrown': ['85032815321825280', '86441828815089664'], 'have': ['81499877556760576'], 'havent': ['81500716438523904', '81600113016971264'], 'here': ['81499877556760576'], 'hmmm': ['81844590625304576'], 'i': ['81500716438523904', '81587643376336896', '81600113016971264', '81644157432643584', '81673244926685184', '81716618236928000', '81842384404623360', '82650970722533376', '86441828815089664'], 'ice': ['85094773555335168'], 'if': ['81842384404623360'], 'im': ['81582996083326976', '81844590625304576'], 'ima': ['81582996083326976'], 'imma': ['81600113016971264'], 'in': ['81499877556760576', '81534165975171072', '81600113016971264', '81656304107651072'], 'is': ['81582996083326976'], 'it': ['81499877556760576', '81600113016971264', '81715158593966080', '81842384404623360', '82650970722533376', '86441828815089664'], 'just': ['81582996083326976', '82461950231064576', '85094773555335168'], 'kreme': ['81500716438523904'], 'krispi': ['81500716438523904'], 'lay': ['81600113016971264'], 'like': ['81582996083326976'], 'littl': ['81623945064890368'], 'ma': ['81842384404623360'], 'made': ['81736742478155778'], 'make': ['81673244926685184'], 'me': ['81644157432643584'], 'mint': ['81656304107651072'], 'mix': ['81623945064890368'], 'mmmm': ['81535634019323904', '81577509950459904'], 'most': ['82461950231064576'], 'mostli': ['81623945064890368'], 'mouth': ['81656304107651072'], 'my': ['81499877556760576', '81507775422791680', '81644157432643584', '81656304107651072', '81673244926685184'], 'myself': ['81736742478155778'], 'n': ['81582996083326976'], 'nacho': ['81507775422791680'], 'nd': ['81644157432643584'], 'never': ['81534165975171072'], 'night': ['81499877556760576', '82650970722533376'], 'not': ['81842384404623360'], 'now': ['81587643376336896'], 'nuffin': ['81534165975171072'], 'number': ['81582996083326976'], 'nyc': ['81499877556760576'], 'of': ['81534165975171072', '81535634019323904'], 'off': ['81582996083326976'], 'oh': ['81715158593966080'], 'ok': ['86441828815089664'], 'on': ['81507775422791680', '81715158593966080', '85094773555335168', '86441828815089664'], 'one': ['81623945064890368', '81842384404623360'], 'or': ['81500716438523904', '81623945064890368', '85094773555335168'], 'other': ['81534165975171072'], 'over': ['81715158593966080'], 'pancak': ['81673244926685184', '86441828815089664'], 'papercut': ['81499877556760576'], 'parti': ['81715158593966080'], 'patti': ['81582996083326976'], 'peach': ['81623945064890368'], 'pepper': ['81623945064890368'], 'perfectli': ['81656304107651072'], 'piec': ['81534165975171072'], 'pink': ['82461950231064576'], 'pure': ['81844590625304576'], 'purpl': ['81503002321616896'], 'raspberri': ['82461950231064576'], 'recommend': ['81842384404623360'], 'rice': ['85032815321825280'], 'right': ['81587643376336896', '81673244926685184'], 'roll': ['81587643376336896'], 'rt': ['81587643376336896', '86441828815089664'], 'scrambl': ['81736742478155778', '85032815321825280'], 'shirt': ['81507775422791680'], 'sinc': ['81500716438523904'], 'slice': ['81534165975171072'], 'slider': ['81503002321616896'], 'smoothi': ['82461950231064576'], 'so': ['81644157432643584'], 'some': ['81600113016971264', '81673244926685184', '81736742478155778'], 'somethin': ['81644157432643584'], 'squirrel': ['81535634019323904'], 'start': ['81500716438523904'], 'steak': ['81587643376336896'], 'stomach': ['81644157432643584'], 'strawberri': ['81500716438523904', '81623945064890368', '81656304107651072', '81715158593966080', '81716618236928000', '81842384404623360', '81844590625304576', '82461950231064576', '85032815321825280', '85094773555335168'], 'such': ['81673244926685184'], 'sum': ['86441828815089664'], 'swim': ['82650970722533376'], 'tagfinalhashtag': ['82650970722533376', '85032815321825280'], 'taghashtag': ['85094773555335168', '86441828815089664'], 'tagusernam': ['81535634019323904', '81582996083326976', '81587643376336896', '81715158593966080', '81716618236928000', '81842384404623360', '81844590625304576', '86441828815089664'], 'tart': ['81715158593966080'], 'tasti': ['81844590625304576'], 'tell': ['81644157432643584'], 'than': ['81582996083326976'], 'that': ['81842384404623360'], 'the': ['81534165975171072', '81716618236928000', '81842384404623360', '82461950231064576'], 'then': ['81844590625304576', '82650970722533376'], 'thi': ['81673244926685184'], 'think': ['81600113016971264', '81673244926685184'], 'to': ['81644157432643584', '81673244926685184', '81716618236928000'], 'toast': ['85032815321825280'], 'tofu': ['85032815321825280'], 'tomato': ['81503002321616896'], 'tonight': ['81715158593966080'], 'too': ['86441828815089664'], 'top': ['81503002321616896'], 'total': ['81715158593966080'], 'tri': ['81842384404623360'], 'trifl': ['81500716438523904'], 'turkey': ['85032815321825280'], 'u': ['81582996083326976'], 'uggghhh': ['81507775422791680'], 'up': ['81499877556760576', '81644157432643584'], 'ur': ['81582996083326976'], 'use': ['85094773555335168'], 'vanilla': ['85094773555335168'], 'veggi': ['81715158593966080', '85032815321825280'], 'veri': ['81656304107651072'], 'w': ['81507775422791680', '86441828815089664'], 'wa': ['81644157432643584', '82650970722533376'], 'want': ['81587643376336896', '81673244926685184', '81716618236928000', '86441828815089664'], 'watch': ['82650970722533376'], 'waterbottl': ['81644157432643584'], 'wavocado': ['81503002321616896'], 'wed': ['81582996083326976'], 'went': ['81644157432643584', '82650970722533376'], 'were': ['81499877556760576'], 'wfri': ['81503002321616896'], 'when': ['81716618236928000'], 'where': ['81673244926685184'], 'while': ['81600113016971264'], 'white': ['81623945064890368'], 'will': ['81534165975171072', '81673244926685184'], 'wit': ['81582996083326976'], 'with': ['81535634019323904', '81736742478155778'], 'without': ['81534165975171072'], 'word': ['81534165975171072'], 'year': ['81582996083326976'], 'yell': ['81644157432643584'], 'you': ['81534165975171072', '81842384404623360'], 'younger': ['81582996083326976']}\n"
     ]
    }
   ],
   "source": [
    "preprocessAllLine = loadFile(\"tweets_corpus.txt\")\n",
    "\n",
    "preProcessed = preprocessAlllines(preprocessAllLine)\n",
    "termFrequencyByDocument, documentFreq, invertedInd = createInvertedIndex(preProcessed)\n",
    "print(\"Inverted Index of all document:\\n\", invertedInd)"
   ]
  },
  {
   "cell_type": "markdown",
   "metadata": {},
   "source": [
    "## Problem 2 - Execute Simple boolean Query\n",
    "#### Supported query:\n",
    "- Query in DNF form\n",
    "- Query in CNF form\n",
    "- Query in AND of n terms\n",
    "- Query in OR of n terms (DNF)\n",
    "#### Unsupported query:\n",
    "- Query containing negation of term(NOT)\n",
    "- nested query with nested parenthesis"
   ]
  },
  {
   "cell_type": "code",
   "execution_count": 389,
   "metadata": {},
   "outputs": [],
   "source": [
    "def executeQuery(queryString):\n",
    "    queryType, termList = preProcessQuery(queryString)\n",
    "    result  = \"No document found\"\n",
    "    if queryType == \"AND\":\n",
    "        result = intersectNPosting(termList, documentFreq, invertedInd)\n",
    "        \n",
    "    elif queryType == \"OR\":\n",
    "        result = unionNPosting(termList, documentFreq, invertedInd)\n",
    "        \n",
    "    elif queryType == \"ANDofOR\":\n",
    "        for group in termList:\n",
    "            result = []\n",
    "            if len(group.strip()) > 0:\n",
    "                if \"AND\" not in group and \"OR\" not in group:\n",
    "                    result1 = invertedInd[group]\n",
    "                else:\n",
    "                    tmpqueryType, tmptermList = preProcessQuery(group)\n",
    "                    result1 = unionNPosting(tmptermList, documentFreq, invertedInd)\n",
    "            \n",
    "                if len(result) > 0 and len(result1) > 0:\n",
    "                    result = intersect(result, result1)\n",
    "                elif len(result) == 0 and len(result1) > 0:\n",
    "                    result = result1\n",
    "                   \n",
    "    elif queryType == \"ORofAND\":\n",
    "        for group in termList:\n",
    "            result = []\n",
    "            if len(group.strip()) > 0:\n",
    "                if \"AND\" not in group and \"OR\" not in group:\n",
    "                    result1 = invertedInd[group]\n",
    "                else:\n",
    "                    tmpqueryType, tmptermList = preProcessQuery(group)\n",
    "                    result1 = intersectNPosting(tmptermList, documentFreq, invertedInd)\n",
    "                result = list(set(result + result1))\n",
    "            \n",
    "    print(\"Query:\",queryString,\"\\nRetrived document list:\\n\", result, \"\\n\")\n",
    "    return result"
   ]
  },
  {
   "cell_type": "code",
   "execution_count": 390,
   "metadata": {},
   "outputs": [
    {
     "name": "stdout",
     "output_type": "stream",
     "text": [
      "Query: (Bacon AND I) OR (Egg AND Bacon) \n",
      "Retrived document list:\n",
      " ['81736742478155778', '86441828815089664', '82650970722533376', '85032815321825280'] \n",
      "\n",
      "Query: (Bacon AND I) OR Egg \n",
      "Retrived document list:\n",
      " ['81623945064890368', '81500716438523904', '85094773555335168'] \n",
      "\n",
      "Query: Bacon OR (I AND Egg \n",
      "Retrived document list:\n",
      " ['81623945064890368', '81500716438523904', '85094773555335168'] \n",
      "\n",
      "Query: Bacon AND I AND Egg \n",
      "Retrived document list:\n",
      " ['82650970722533376', '86441828815089664'] \n",
      "\n",
      "Query: Bacon OR I OR Egg \n",
      "Retrived document list:\n",
      " ['81716618236928000', '82650970722533376', '81842384404623360', '81600113016971264', '81736742478155778', '81587643376336896', '81673244926685184', '81644157432643584', '81500716438523904', '86441828815089664', '85032815321825280', '81503002321616896'] \n",
      "\n",
      "Query: (Bacon OR I) AND (Egg OR Bacon) \n",
      "Retrived document list:\n",
      " ['82650970722533376', '81736742478155778', '81587643376336896', '81673244926685184', '86441828815089664', '85032815321825280', '81503002321616896'] \n",
      "\n",
      "Query: (Bacon OR Egg) AND I \n",
      "Retrived document list:\n",
      " ['81499877556760576', '81587643376336896', '81656304107651072', '81673244926685184', '81715158593966080', '81716618236928000', '81736742478155778'] \n",
      "\n",
      "Query: Bacon AND ( Egg OR I) \n",
      "Retrived document list:\n",
      " ['81499877556760576', '81587643376336896', '81656304107651072', '81673244926685184', '81715158593966080', '81716618236928000', '81736742478155778'] \n",
      "\n"
     ]
    }
   ],
   "source": [
    "result = executeQuery(\"(Bacon AND I) OR (Egg AND Bacon)\")\n",
    "result1 = executeQuery(\"(Bacon AND I) OR Egg\")\n",
    "result2 = executeQuery(\"Bacon OR (I AND Egg\")\n",
    "result3 = executeQuery(\"Bacon AND I AND Egg\")\n",
    "result4 = executeQuery(\"Bacon OR I OR Egg\")\n",
    "result5 = executeQuery(\"(Bacon OR I) AND (Egg OR Bacon)\")\n",
    "result6 = executeQuery(\"(Bacon OR Egg) AND I\")\n",
    "result7 = executeQuery(\"Bacon AND ( Egg OR I)\")"
   ]
  },
  {
   "cell_type": "markdown",
   "metadata": {},
   "source": [
    "## Supported and Unsupported query type\n",
    "The executeQuery() supports following types of query:\n",
    "#### Supported query:\n",
    "- Query in DNF form\n",
    "- Query in CNF form\n",
    "- Query in AND of n terms\n",
    "- Query in OR of n terms (DNF)\n",
    "#### Unsupported query:\n",
    "- Query containing negation of term(NOT)\n",
    "- nested query with nested parenthesis"
   ]
  },
  {
   "cell_type": "markdown",
   "metadata": {},
   "source": [
    "## Problem 3- TF-IDF score of retrived document from problem 2"
   ]
  },
  {
   "cell_type": "code",
   "execution_count": 391,
   "metadata": {},
   "outputs": [
    {
     "name": "stdout",
     "output_type": "stream",
     "text": [
      "TFIDF Score:\n",
      " {('81736742478155778', 'bacon'): 0.1791759469228055, ('81736742478155778', 'i'): 0.0, ('81736742478155778', 'egg'): 0.12321436812926323, ('86441828815089664', 'bacon'): 0.08532187948705024, ('86441828815089664', 'i'): 0.04670615490532029, ('86441828815089664', 'egg'): 0.058673508632982485, ('82650970722533376', 'bacon'): 0.08532187948705024, ('82650970722533376', 'i'): 0.04670615490532029, ('82650970722533376', 'egg'): 0.058673508632982485, ('85032815321825280', 'bacon'): 0.11945063128187033, ('85032815321825280', 'i'): 0.0, ('85032815321825280', 'egg'): 0.08214291208617548} \n",
      "\n",
      "TFIDF Score:\n",
      " {('81623945064890368', 'bacon'): 0.0, ('81623945064890368', 'i'): 0.0, ('81623945064890368', 'egg'): 0.0, ('81500716438523904', 'bacon'): 0.0, ('81500716438523904', 'i'): 0.14011846471596087, ('81500716438523904', 'egg'): 0.0, ('85094773555335168', 'bacon'): 0.0, ('85094773555335168', 'i'): 0.0, ('85094773555335168', 'egg'): 0.0} \n",
      "\n",
      "TFIDF Score:\n",
      " {('81623945064890368', 'bacon'): 0.0, ('81623945064890368', 'i'): 0.0, ('81623945064890368', 'egg'): 0.0, ('81500716438523904', 'bacon'): 0.0, ('81500716438523904', 'i'): 0.14011846471596087, ('81500716438523904', 'egg'): 0.0, ('85094773555335168', 'bacon'): 0.0, ('85094773555335168', 'i'): 0.0, ('85094773555335168', 'egg'): 0.0} \n",
      "\n",
      "TFIDF Score:\n",
      " {('82650970722533376', 'bacon'): 0.08532187948705024, ('82650970722533376', 'i'): 0.04670615490532029, ('82650970722533376', 'egg'): 0.058673508632982485, ('86441828815089664', 'bacon'): 0.08532187948705024, ('86441828815089664', 'i'): 0.04670615490532029, ('86441828815089664', 'egg'): 0.058673508632982485} \n",
      "\n",
      "TFIDF Score:\n",
      " {('81716618236928000', 'bacon'): 0.0, ('81716618236928000', 'i'): 0.05449051405620701, ('81716618236928000', 'egg'): 0.0, ('82650970722533376', 'bacon'): 0.08532187948705024, ('82650970722533376', 'i'): 0.04670615490532029, ('82650970722533376', 'egg'): 0.058673508632982485, ('81842384404623360', 'bacon'): 0.0, ('81842384404623360', 'i'): 0.04670615490532029, ('81842384404623360', 'egg'): 0.0, ('81600113016971264', 'bacon'): 0.0, ('81600113016971264', 'i'): 0.06538861686744842, ('81600113016971264', 'egg'): 0.0, ('81736742478155778', 'bacon'): 0.1791759469228055, ('81736742478155778', 'i'): 0.0, ('81736742478155778', 'egg'): 0.12321436812926323, ('81587643376336896', 'bacon'): 0.0, ('81587643376336896', 'i'): 0.08173577108431052, ('81587643376336896', 'egg'): 0.10267864010771935, ('81673244926685184', 'bacon'): 0.0, ('81673244926685184', 'i'): 0.11769951036140713, ('81673244926685184', 'egg'): 0.04928574725170529, ('81644157432643584', 'bacon'): 0.0, ('81644157432643584', 'i'): 0.03632700937080467, ('81644157432643584', 'egg'): 0.0, ('81500716438523904', 'bacon'): 0.0, ('81500716438523904', 'i'): 0.14011846471596087, ('81500716438523904', 'egg'): 0.0, ('86441828815089664', 'bacon'): 0.08532187948705024, ('86441828815089664', 'i'): 0.04670615490532029, ('86441828815089664', 'egg'): 0.058673508632982485, ('85032815321825280', 'bacon'): 0.11945063128187033, ('85032815321825280', 'i'): 0.0, ('85032815321825280', 'egg'): 0.08214291208617548, ('81503002321616896', 'bacon'): 0.0, ('81503002321616896', 'i'): 0.0, ('81503002321616896', 'egg'): 0.09478028317635634} \n",
      "\n",
      "TFIDF Score:\n",
      " {('82650970722533376', 'bacon'): 0.08532187948705024, ('82650970722533376', 'i'): 0.04670615490532029, ('82650970722533376', 'egg'): 0.058673508632982485, ('81736742478155778', 'bacon'): 0.1791759469228055, ('81736742478155778', 'i'): 0.0, ('81736742478155778', 'egg'): 0.12321436812926323, ('81587643376336896', 'bacon'): 0.0, ('81587643376336896', 'i'): 0.08173577108431052, ('81587643376336896', 'egg'): 0.10267864010771935, ('81673244926685184', 'bacon'): 0.0, ('81673244926685184', 'i'): 0.11769951036140713, ('81673244926685184', 'egg'): 0.04928574725170529, ('86441828815089664', 'bacon'): 0.08532187948705024, ('86441828815089664', 'i'): 0.04670615490532029, ('86441828815089664', 'egg'): 0.058673508632982485, ('85032815321825280', 'bacon'): 0.11945063128187033, ('85032815321825280', 'i'): 0.0, ('85032815321825280', 'egg'): 0.08214291208617548, ('81503002321616896', 'bacon'): 0.0, ('81503002321616896', 'i'): 0.0, ('81503002321616896', 'egg'): 0.09478028317635634} \n",
      "\n",
      "TFIDF Score:\n",
      " {('81499877556760576', 'bacon'): 0.0, ('81499877556760576', 'i'): 0.0, ('81499877556760576', 'egg'): 0.0, ('81587643376336896', 'bacon'): 0.0, ('81587643376336896', 'i'): 0.08173577108431052, ('81587643376336896', 'egg'): 0.10267864010771935, ('81656304107651072', 'bacon'): 0.0, ('81656304107651072', 'i'): 0.0, ('81656304107651072', 'egg'): 0.0, ('81673244926685184', 'bacon'): 0.0, ('81673244926685184', 'i'): 0.11769951036140713, ('81673244926685184', 'egg'): 0.04928574725170529, ('81715158593966080', 'bacon'): 0.0, ('81715158593966080', 'i'): 0.0, ('81715158593966080', 'egg'): 0.0, ('81716618236928000', 'bacon'): 0.0, ('81716618236928000', 'i'): 0.05449051405620701, ('81716618236928000', 'egg'): 0.0, ('81736742478155778', 'bacon'): 0.1791759469228055, ('81736742478155778', 'i'): 0.0, ('81736742478155778', 'egg'): 0.12321436812926323} \n",
      "\n",
      "TFIDF Score:\n",
      " {('81499877556760576', 'bacon'): 0.0, ('81499877556760576', 'i'): 0.0, ('81499877556760576', 'egg'): 0.0, ('81587643376336896', 'bacon'): 0.0, ('81587643376336896', 'i'): 0.08173577108431052, ('81587643376336896', 'egg'): 0.10267864010771935, ('81656304107651072', 'bacon'): 0.0, ('81656304107651072', 'i'): 0.0, ('81656304107651072', 'egg'): 0.0, ('81673244926685184', 'bacon'): 0.0, ('81673244926685184', 'i'): 0.11769951036140713, ('81673244926685184', 'egg'): 0.04928574725170529, ('81715158593966080', 'bacon'): 0.0, ('81715158593966080', 'i'): 0.0, ('81715158593966080', 'egg'): 0.0, ('81716618236928000', 'bacon'): 0.0, ('81716618236928000', 'i'): 0.05449051405620701, ('81716618236928000', 'egg'): 0.0, ('81736742478155778', 'bacon'): 0.1791759469228055, ('81736742478155778', 'i'): 0.0, ('81736742478155778', 'egg'): 0.12321436812926323} \n",
      "\n"
     ]
    }
   ],
   "source": [
    "tfIdfScoreOfRetrivedDocument = calculateTFIDFScore(termList, preProcessed\n",
    "                                                   , termFrequencyByDocument, invertedInd, result)\n",
    "tfIdfScoreOfRetrivedDocument1 = calculateTFIDFScore(termList, preProcessed\n",
    "                                                   , termFrequencyByDocument, invertedInd, result1)\n",
    "tfIdfScoreOfRetrivedDocument2 = calculateTFIDFScore(termList, preProcessed\n",
    "                                                   , termFrequencyByDocument, invertedInd, result2)\n",
    "tfIdfScoreOfRetrivedDocument3 = calculateTFIDFScore(termList, preProcessed\n",
    "                                                   , termFrequencyByDocument, invertedInd, result3)\n",
    "print(\"TFIDF Score:\\n\", tfIdfScoreOfRetrivedDocument, \"\\n\")\n",
    "print(\"TFIDF Score:\\n\", tfIdfScoreOfRetrivedDocument1, \"\\n\")\n",
    "print(\"TFIDF Score:\\n\", tfIdfScoreOfRetrivedDocument2, \"\\n\")\n",
    "print(\"TFIDF Score:\\n\", tfIdfScoreOfRetrivedDocument3, \"\\n\")\n",
    "tfIdfScoreOfRetrivedDocument4 = calculateTFIDFScore(termList, preProcessed\n",
    "                                                   , termFrequencyByDocument, invertedInd, result4)\n",
    "tfIdfScoreOfRetrivedDocument5 = calculateTFIDFScore(termList, preProcessed\n",
    "                                                   , termFrequencyByDocument, invertedInd, result5)\n",
    "tfIdfScoreOfRetrivedDocument6 = calculateTFIDFScore(termList, preProcessed\n",
    "                                                   , termFrequencyByDocument, invertedInd, result6)\n",
    "tfIdfScoreOfRetrivedDocument7 = calculateTFIDFScore(termList, preProcessed\n",
    "                                                   , termFrequencyByDocument, invertedInd, result7)\n",
    "print(\"TFIDF Score:\\n\", tfIdfScoreOfRetrivedDocument4, \"\\n\")\n",
    "print(\"TFIDF Score:\\n\", tfIdfScoreOfRetrivedDocument5, \"\\n\")\n",
    "print(\"TFIDF Score:\\n\", tfIdfScoreOfRetrivedDocument6, \"\\n\")\n",
    "print(\"TFIDF Score:\\n\", tfIdfScoreOfRetrivedDocument7, \"\\n\")"
   ]
  },
  {
   "cell_type": "code",
   "execution_count": null,
   "metadata": {},
   "outputs": [],
   "source": []
  },
  {
   "cell_type": "code",
   "execution_count": null,
   "metadata": {},
   "outputs": [],
   "source": []
  },
  {
   "cell_type": "code",
   "execution_count": null,
   "metadata": {},
   "outputs": [],
   "source": []
  }
 ],
 "metadata": {
  "kernelspec": {
   "display_name": "Python 3",
   "language": "python",
   "name": "python3"
  },
  "language_info": {
   "codemirror_mode": {
    "name": "ipython",
    "version": 3
   },
   "file_extension": ".py",
   "mimetype": "text/x-python",
   "name": "python",
   "nbconvert_exporter": "python",
   "pygments_lexer": "ipython3",
   "version": "3.5.2"
  }
 },
 "nbformat": 4,
 "nbformat_minor": 2
}
