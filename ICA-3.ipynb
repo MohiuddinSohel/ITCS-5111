{
 "cells": [
  {
   "cell_type": "code",
   "execution_count": 32,
   "metadata": {},
   "outputs": [],
   "source": [
    "import matplotlib.pyplot as plt\n",
    "import pandas as pd\n",
    "import numpy as np\n",
    "import nltk as nltk\n",
    "from nltk.corpus import gutenberg\n",
    "from nltk.stem import *\n"
   ]
  },
  {
   "cell_type": "code",
   "execution_count": 33,
   "metadata": {},
   "outputs": [],
   "source": [
    "alice = nltk.corpus.gutenberg.raw('carroll-alice.txt')\n",
    "alice = alice.split(\"\\n\\n\")\n",
    "textToProcess = alice[2] + alice[3] + alice[4]"
   ]
  },
  {
   "cell_type": "markdown",
   "metadata": {},
   "source": [
    "### Task 2: POS tagger"
   ]
  },
  {
   "cell_type": "code",
   "execution_count": 34,
   "metadata": {},
   "outputs": [],
   "source": [
    "text = nltk.word_tokenize(textToProcess)\n",
    "taggedWord = nltk.pos_tag(text)"
   ]
  },
  {
   "cell_type": "markdown",
   "metadata": {},
   "source": [
    "### Task 3: most Frequent tag"
   ]
  },
  {
   "cell_type": "code",
   "execution_count": 35,
   "metadata": {},
   "outputs": [
    {
     "name": "stdout",
     "output_type": "stream",
     "text": [
      "[('IN', 37), ('NN', 26), ('DT', 25), ('PRP', 20), ('VBD', 19), ('RB', 19), (',', 18), ('JJ', 15), ('CC', 15), ('NNP', 12), ('VB', 12), ('VBG', 9), ('TO', 9), ('PRP$', 7), ('NNS', 7), ('.', 5), ('MD', 4), (':', 3), ('VBN', 3), (\"''\", 3), ('WRB', 3), ('VBZ', 2), ('(', 2), (')', 2), ('RP', 2), ('WP', 1), ('POS', 1), ('CD', 1), ('VBP', 1), ('UH', 1)]\n",
      "('IN', 37)\n",
      "('NN', 26)\n",
      "('DT', 25)\n",
      "('PRP', 20)\n",
      "('VBD', 19)\n"
     ]
    }
   ],
   "source": [
    "tag_fd = nltk.FreqDist(tag for (word, tag) in taggedWord)\n",
    "res = tag_fd.most_common()\n",
    "i= 0\n",
    "print(res)\n",
    "for v in res:\n",
    "    print(v)\n",
    "    i +=1\n",
    "    if i >=5:\n",
    "        break"
   ]
  },
  {
   "cell_type": "code",
   "execution_count": 37,
   "metadata": {},
   "outputs": [
    {
     "name": "stdout",
     "output_type": "stream",
     "text": [
      "[('Alice', None), ('was', 'NNS'), ('beginning', 'VBG'), ('to', None), ('get', None), ('very', None), ('tired', 'VBD'), ('of', None), ('sitting', 'VBG'), ('by', None), ('her', None), ('sister', None), ('on', None), ('the', None), ('bank', None), (',', None), ('and', None), ('of', None), ('having', 'VBG'), ('nothing', 'VBG'), ('to', None), ('do', None), (':', None), ('once', None), ('or', None), ('twice', None), ('she', None), ('had', None), ('peeped', 'VBD'), ('into', None), ('the', None), ('book', None), ('her', None), ('sister', None), ('was', 'NNS'), ('reading', 'VBG'), (',', None), ('but', None), ('it', None), ('had', None), ('no', None), ('pictures', 'NNS'), ('or', None), ('conversations', 'NNS'), ('in', None), ('it', None), (',', None), (\"'and\", None), ('what', None), ('is', 'NNS'), ('the', None), ('use', None), ('of', None), ('a', None), ('book', None), (',', None), (\"'\", None), ('thought', None), ('Alice', None), (\"'without\", None), ('pictures', 'NNS'), ('or', None), ('conversation', None), ('?', None), (\"'So\", None), ('she', None), ('was', 'NNS'), ('considering', 'VBG'), ('in', None), ('her', None), ('own', None), ('mind', None), ('(', None), ('as', 'NNS'), ('well', None), ('as', 'NNS'), ('she', None), ('could', None), (',', None), ('for', None), ('the', None), ('hot', None), ('day', None), ('made', None), ('her', None), ('feel', None), ('very', None), ('sleepy', None), ('and', None), ('stupid', None), (')', None), (',', None), ('whether', None), ('the', None), ('pleasure', None), ('of', None), ('making', 'VBG'), ('a', None), ('daisy-chain', None), ('would', None), ('be', None), ('worth', None), ('the', None), ('trouble', None), ('of', None), ('getting', 'VBG'), ('up', None), ('and', None), ('picking', 'VBG'), ('the', None), ('daisies', 'NNS'), (',', None), ('when', None), ('suddenly', None), ('a', None), ('White', None), ('Rabbit', None), ('with', None), ('pink', None), ('eyes', 'NNS'), ('ran', None), ('close', None), ('by', None), ('her.There', None), ('was', 'NNS'), ('nothing', 'VBG'), ('so', None), ('VERY', None), ('remarkable', None), ('in', None), ('that', None), (';', None), ('nor', None), ('did', None), ('Alice', None), ('think', None), ('it', None), ('so', None), ('VERY', None), ('much', None), ('out', None), ('of', None), ('the', None), ('way', None), ('to', None), ('hear', None), ('the', None), ('Rabbit', None), ('say', None), ('to', None), ('itself', None), (',', None), (\"'Oh\", None), ('dear', None), ('!', None), ('Oh', None), ('dear', None), ('!', None), ('I', None), ('shall', None), ('be', None), ('late', None), ('!', None), (\"'\", None), ('(', None), ('when', None), ('she', None), ('thought', None), ('it', None), ('over', None), ('afterwards', 'NNS'), (',', None), ('it', None), ('occurred', 'VBD'), ('to', None), ('her', None), ('that', None), ('she', None), ('ought', None), ('to', None), ('have', None), ('wondered', 'VBD'), ('at', None), ('this', 'NNS'), (',', None), ('but', None), ('at', None), ('the', None), ('time', None), ('it', None), ('all', None), ('seemed', 'VBD'), ('quite', None), ('natural', None), (')', None), (';', None), ('but', None), ('when', None), ('the', None), ('Rabbit', None), ('actually', None), ('TOOK', None), ('A', None), ('WATCH', None), ('OUT', None), ('OF', None), ('ITS', None), ('WAISTCOAT-POCKET', None), (',', None), ('and', None), ('looked', 'VBD'), ('at', None), ('it', None), (',', None), ('and', None), ('then', None), ('hurried', 'VBD'), ('on', None), (',', None), ('Alice', None), ('started', 'VBD'), ('to', None), ('her', None), ('feet', None), (',', None), ('for', None), ('it', None), ('flashed', 'VBD'), ('across', 'NNS'), ('her', None), ('mind', None), ('that', None), ('she', None), ('had', None), ('never', None), ('before', None), ('seen', None), ('a', None), ('rabbit', None), ('with', None), ('either', None), ('a', None), ('waistcoat-pocket', None), (',', None), ('or', None), ('a', None), ('watch', None), ('to', None), ('take', None), ('out', None), ('of', None), ('it', None), (',', None), ('and', None), ('burning', 'VBG'), ('with', None), ('curiosity', None), (',', None), ('she', None), ('ran', None), ('across', 'NNS'), ('the', None), ('field', None), ('after', None), ('it', None), (',', None), ('and', None), ('fortunately', None), ('was', 'NNS'), ('just', None), ('in', None), ('time', None), ('to', None), ('see', None), ('it', None), ('pop', None), ('down', None), ('a', None), ('large', None), ('rabbit-hole', None), ('under', None), ('the', None), ('hedge', None), ('.', None)]\n",
      "[('Alice', 'NNP'), ('was', 'VBD'), ('beginning', 'VBG'), ('to', 'TO'), ('get', 'VB'), ('very', 'RB'), ('tired', 'JJ'), ('of', 'IN'), ('sitting', 'VBG'), ('by', 'IN'), ('her', 'PRP$'), ('sister', 'NN'), ('on', 'IN'), ('the', 'DT'), ('bank', 'NN'), (',', ','), ('and', 'CC'), ('of', 'IN'), ('having', 'VBG'), ('nothing', 'NN'), ('to', 'TO'), ('do', 'VB'), (':', ':'), ('once', 'RB'), ('or', 'CC'), ('twice', 'VB'), ('she', 'PRP'), ('had', 'VBD'), ('peeped', 'VBN'), ('into', 'IN'), ('the', 'DT'), ('book', 'NN'), ('her', 'PRP$'), ('sister', 'NN'), ('was', 'VBD'), ('reading', 'VBG'), (',', ','), ('but', 'CC'), ('it', 'PRP'), ('had', 'VBD'), ('no', 'DT'), ('pictures', 'NNS'), ('or', 'CC'), ('conversations', 'NNS'), ('in', 'IN'), ('it', 'PRP'), (',', ','), (\"'and\", 'VB'), ('what', 'WP'), ('is', 'VBZ'), ('the', 'DT'), ('use', 'NN'), ('of', 'IN'), ('a', 'DT'), ('book', 'NN'), (',', ','), (\"'\", \"''\"), ('thought', 'JJ'), ('Alice', 'NNP'), (\"'without\", 'POS'), ('pictures', 'NNS'), ('or', 'CC'), ('conversation', 'NN'), ('?', '.'), (\"'So\", 'CD'), ('she', 'PRP'), ('was', 'VBD'), ('considering', 'VBG'), ('in', 'IN'), ('her', 'PRP$'), ('own', 'JJ'), ('mind', 'NN'), ('(', '('), ('as', 'RB'), ('well', 'RB'), ('as', 'IN'), ('she', 'PRP'), ('could', 'MD'), (',', ','), ('for', 'IN'), ('the', 'DT'), ('hot', 'JJ'), ('day', 'NN'), ('made', 'VBD'), ('her', 'PRP$'), ('feel', 'JJ'), ('very', 'RB'), ('sleepy', 'JJ'), ('and', 'CC'), ('stupid', 'JJ'), (')', ')'), (',', ','), ('whether', 'IN'), ('the', 'DT'), ('pleasure', 'NN'), ('of', 'IN'), ('making', 'VBG'), ('a', 'DT'), ('daisy-chain', 'NN'), ('would', 'MD'), ('be', 'VB'), ('worth', 'IN'), ('the', 'DT'), ('trouble', 'NN'), ('of', 'IN'), ('getting', 'VBG'), ('up', 'RP'), ('and', 'CC'), ('picking', 'VBG'), ('the', 'DT'), ('daisies', 'NNS'), (',', ','), ('when', 'WRB'), ('suddenly', 'RB'), ('a', 'DT'), ('White', 'NNP'), ('Rabbit', 'NN'), ('with', 'IN'), ('pink', 'JJ'), ('eyes', 'NNS'), ('ran', 'VBD'), ('close', 'RB'), ('by', 'IN'), ('her.There', 'NN'), ('was', 'VBD'), ('nothing', 'NN'), ('so', 'RB'), ('VERY', 'RB'), ('remarkable', 'JJ'), ('in', 'IN'), ('that', 'DT'), (';', ':'), ('nor', 'CC'), ('did', 'VBD'), ('Alice', 'NNP'), ('think', 'VB'), ('it', 'PRP'), ('so', 'RB'), ('VERY', 'RB'), ('much', 'JJ'), ('out', 'IN'), ('of', 'IN'), ('the', 'DT'), ('way', 'NN'), ('to', 'TO'), ('hear', 'VB'), ('the', 'DT'), ('Rabbit', 'NNP'), ('say', 'VBP'), ('to', 'TO'), ('itself', 'PRP'), (',', ','), (\"'Oh\", \"''\"), ('dear', 'JJ'), ('!', '.'), ('Oh', 'UH'), ('dear', 'JJ'), ('!', '.'), ('I', 'PRP'), ('shall', 'MD'), ('be', 'VB'), ('late', 'RB'), ('!', '.'), (\"'\", \"''\"), ('(', '('), ('when', 'WRB'), ('she', 'PRP'), ('thought', 'VBD'), ('it', 'PRP'), ('over', 'IN'), ('afterwards', 'NNS'), (',', ','), ('it', 'PRP'), ('occurred', 'VBD'), ('to', 'TO'), ('her', 'PRP$'), ('that', 'IN'), ('she', 'PRP'), ('ought', 'MD'), ('to', 'TO'), ('have', 'VB'), ('wondered', 'VBN'), ('at', 'IN'), ('this', 'DT'), (',', ','), ('but', 'CC'), ('at', 'IN'), ('the', 'DT'), ('time', 'NN'), ('it', 'PRP'), ('all', 'DT'), ('seemed', 'VBD'), ('quite', 'RB'), ('natural', 'JJ'), (')', ')'), (';', ':'), ('but', 'CC'), ('when', 'WRB'), ('the', 'DT'), ('Rabbit', 'NNP'), ('actually', 'RB'), ('TOOK', 'VBZ'), ('A', 'NNP'), ('WATCH', 'NNP'), ('OUT', 'NNP'), ('OF', 'IN'), ('ITS', 'NNP'), ('WAISTCOAT-POCKET', 'NNP'), (',', ','), ('and', 'CC'), ('looked', 'VBD'), ('at', 'IN'), ('it', 'PRP'), (',', ','), ('and', 'CC'), ('then', 'RB'), ('hurried', 'VBD'), ('on', 'IN'), (',', ','), ('Alice', 'NNP'), ('started', 'VBD'), ('to', 'TO'), ('her', 'PRP$'), ('feet', 'NNS'), (',', ','), ('for', 'IN'), ('it', 'PRP'), ('flashed', 'VBD'), ('across', 'IN'), ('her', 'PRP$'), ('mind', 'NN'), ('that', 'IN'), ('she', 'PRP'), ('had', 'VBD'), ('never', 'RB'), ('before', 'RB'), ('seen', 'VBN'), ('a', 'DT'), ('rabbit', 'NN'), ('with', 'IN'), ('either', 'DT'), ('a', 'DT'), ('waistcoat-pocket', 'NN'), (',', ','), ('or', 'CC'), ('a', 'DT'), ('watch', 'NN'), ('to', 'TO'), ('take', 'VB'), ('out', 'IN'), ('of', 'IN'), ('it', 'PRP'), (',', ','), ('and', 'CC'), ('burning', 'VBG'), ('with', 'IN'), ('curiosity', 'NN'), (',', ','), ('she', 'PRP'), ('ran', 'VBD'), ('across', 'IN'), ('the', 'DT'), ('field', 'NN'), ('after', 'IN'), ('it', 'PRP'), (',', ','), ('and', 'CC'), ('fortunately', 'RB'), ('was', 'VBD'), ('just', 'RB'), ('in', 'IN'), ('time', 'NN'), ('to', 'TO'), ('see', 'VB'), ('it', 'PRP'), ('pop', 'VB'), ('down', 'RP'), ('a', 'DT'), ('large', 'JJ'), ('rabbit-hole', 'JJ'), ('under', 'IN'), ('the', 'DT'), ('hedge', 'NN'), ('.', '.')]\n"
     ]
    }
   ],
   "source": [
    "patterns = [\n",
    "    (r'.*ing$', 'VBG'),\n",
    "    (r'.*ed$', 'VBD'),\n",
    "    (r'.*s$', 'NNS'),\n",
    "]\n",
    "regexp_tagger = nltk.RegexpTagger(patterns)\n",
    "res = regexp_tagger.tag(text)\n",
    "print(res)\n",
    "print(taggedWord)"
   ]
  },
  {
   "cell_type": "markdown",
   "metadata": {},
   "source": [
    "### Task 4 : Incorrect tagging\n",
    "nothing is detected as ('nothing', 'VBG') by regexTagger and ('nothing', 'NN') by pos tagger\n",
    "\n",
    "was is detected as ('was', 'NNS') tagged  by regexTagger and ('was', 'VBD') by pos tagger\n",
    "\n",
    "across si detected as ('across', 'NNS') tagged  by regexTagger and ('across', 'IN') by pos tagger\n"
   ]
  },
  {
   "cell_type": "code",
   "execution_count": null,
   "metadata": {},
   "outputs": [],
   "source": []
  },
  {
   "cell_type": "code",
   "execution_count": null,
   "metadata": {},
   "outputs": [],
   "source": []
  }
 ],
 "metadata": {
  "kernelspec": {
   "display_name": "Python 3",
   "language": "python",
   "name": "python3"
  },
  "language_info": {
   "codemirror_mode": {
    "name": "ipython",
    "version": 3
   },
   "file_extension": ".py",
   "mimetype": "text/x-python",
   "name": "python",
   "nbconvert_exporter": "python",
   "pygments_lexer": "ipython3",
   "version": "3.7.3"
  }
 },
 "nbformat": 4,
 "nbformat_minor": 2
}
