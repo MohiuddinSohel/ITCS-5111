{
 "cells": [
  {
   "cell_type": "code",
   "execution_count": 2,
   "metadata": {},
   "outputs": [],
   "source": [
    "import matplotlib.pyplot as plt\n",
    "import pandas as pd\n",
    "import numpy as np\n",
    "import nltk as nltk\n",
    "from nltk.corpus import gutenberg\n",
    "from collections import Counter\n"
   ]
  },
  {
   "cell_type": "code",
   "execution_count": 3,
   "metadata": {
    "scrolled": true
   },
   "outputs": [],
   "source": [
    "\n",
    "alice = nltk.corpus.gutenberg.raw('carroll-alice.txt')\n",
    "words = nltk.word_tokenize(alice)\n",
    "words = [word.lower() for word in words if word.isalpha()]\n",
    "counters = nltk.FreqDist(words)\n"
   ]
  },
  {
   "cell_type": "code",
   "execution_count": 4,
   "metadata": {},
   "outputs": [],
   "source": [
    "def getWordCount_UniqueWord_frequency():\n",
    "    countWord = len(words)\n",
    "    uniqueWord = len(counters)\n",
    "    filtered_word_freq = dict((word, freq) for word, freq in counters.items())\n",
    "    print(\"Total word count: \",countWord)\n",
    "    print(\"Total unique word: \", uniqueWord)\n",
    "    print(\"frequency dictonary: \")\n",
    "    print(filtered_word_freq)\n",
    "    return countWord, uniqueWord, filtered_word_freq;\n"
   ]
  },
  {
   "cell_type": "code",
   "execution_count": 5,
   "metadata": {},
   "outputs": [
    {
     "name": "stdout",
     "output_type": "stream",
     "text": [
      "Total word count:  25464\n",
      "Total unique word:  2470\n",
      "frequency dictonary: \n",
      "{'persisted': 2, 'read': 10, 'therefore': 1, 'hot': 5, 'shedding': 1, 'trickling': 1, 'clever': 2, 'memorandum': 1, 'flashed': 1, 'same': 23, 'appealed': 1, 'me': 68, 'sleep': 6, 'using': 2, 'moment': 31, 'highest': 1, 'ma': 2, 'put': 31, 'lovely': 2, 'wits': 1, 'grass': 4, 'chatte': 1, 'second': 4, 'capering': 1, 'drew': 5, 'but': 131, 'sky': 4, 'curiosity': 5, 'ii': 1, 'soft': 1, 'cry': 3, 'law': 2, 'crocodile': 1, 'let': 17, 'insolence': 1, 'his': 95, 'counting': 1, 'roses': 3, 'miss': 4, 'impatiently': 5, 'resource': 1, 'folding': 1, 'that': 284, 'hung': 1, 'farther': 1, 'plenty': 2, 'archbishop': 2, 'afraid': 12, 'spite': 1, 'perfectly': 4, 'treat': 1, 'crawled': 1, 'reaching': 1, 'carroll': 1, 'knee': 5, 'shouted': 9, 'quadrille': 4, 'fire': 3, 'yours': 3, 'wife': 1, 'tasted': 3, 'barrowful': 2, 'high': 16, 'expecting': 3, 'creature': 4, 'pretend': 1, 'pepper': 6, 'france': 1, 'comfort': 1, 'prisoner': 2, 'affair': 1, 'lewis': 1, 'cartwheels': 1, 'shower': 2, 'by': 58, 'verdict': 4, 'laid': 2, 'saucepans': 1, 'pieces': 3, 'grammar': 1, 'remarkable': 2, 'letter': 3, 'i': 533, 'knew': 14, 'banks': 1, 'tree': 5, 'mouths': 4, 'm': 4, 'execution': 3, 'quiver': 1, 'o': 3, 'figures': 1, 'natural': 4, 'she': 544, 'muscular': 1, 'hare': 31, 'exclamation': 1, 'said': 462, 'ambition': 1, 'clear': 2, 'livery': 3, 'story': 8, 'pattern': 1, 'body': 2, 'guess': 3, 'knows': 2, 'children': 10, 'william': 8, 'seated': 1, 'wonderful': 2, 'hurrying': 1, 'cheshire': 6, 'ask': 11, 'nothing': 30, 'sour': 1, 'scolded': 1, 'yawning': 2, 'lock': 1, 'their': 51, 'may': 13, 'belong': 1, 'spot': 1, 'shouting': 2, 'suit': 3, 'sea': 13, 'allow': 2, 'yes': 1, 'become': 5, 'feebly': 1, 'trampled': 1, 'regular': 2, 'good': 24, 'man': 5, 'pleasant': 1, 'offended': 10, 'along': 6, 'lap': 2, 'eyelids': 1, 'sooner': 2, 'choke': 1, 'footsteps': 2, 'seeing': 1, 'saucer': 1, 'saves': 1, 'loose': 1, 'dozing': 1, 'round': 41, 'worry': 1, 'prizes': 4, 'fills': 1, 'edge': 3, 'voices': 3, 'games': 1, 'feeling': 7, 'pleasure': 2, 'having': 10, 'twinkling': 4, 'day': 25, 'becoming': 1, 'speak': 13, 'happen': 8, 'remaining': 1, 'master': 3, 'succeeded': 3, 'gather': 1, 'reach': 4, 'commotion': 1, 'pop': 1, 'wildly': 2, 'wretched': 2, 'give': 9, 'temper': 5, 'sentence': 5, 'showing': 2, 'creatures': 9, 'sha': 4, 'pocket': 5, 'going': 27, 'various': 1, 'unjust': 1, 'broke': 2, 'shoulder': 4, 'addressed': 2, 'fury': 2, 'fitted': 1, 'coming': 9, 'punished': 1, 'are': 47, 'accounts': 1, 'unusually': 1, 'pause': 2, 'shoulders': 4, 'beak': 1, 'glass': 9, 'vi': 1, 'courage': 3, 'vinegar': 1, 'met': 3, 'these': 14, 'personal': 2, 'received': 1, 'fumbled': 1, 'finding': 3, 'killing': 1, 'knife': 2, 'absurd': 2, 'sometimes': 5, 'splendidly': 1, 'then': 82, 'provoking': 1, 'begin': 12, 'evidently': 1, 'nowhere': 2, 'morsel': 1, 'made': 30, 'bottle': 10, 'forepaws': 1, 'flappers': 1, 'ix': 1, 'dogs': 3, 'comes': 2, 'looked': 45, 'bright': 7, 'holiday': 1, 'mice': 4, 'oh': 22, 'bones': 1, 'ear': 6, 'relief': 2, 'of': 499, 'arms': 6, 'strength': 1, 'ashamed': 2, 'follow': 2, 'conversation': 10, 'sharks': 1, 'whistle': 1, 'trotting': 2, 'than': 23, 'wrapping': 1, 'limbs': 1, 'vii': 1, 'poor': 26, 'slate': 3, 'just': 49, 'turned': 16, 'argue': 1, 'rule': 4, 'pulled': 1, 'tiptoe': 2, 'roots': 1, 'tones': 2, 'pretexts': 1, 'into': 67, 'will': 33, 'patiently': 2, 'sides': 4, 'wrote': 3, 'slates': 8, 'cares': 2, 'know': 88, 'croqueting': 1, 'toss': 1, 'pale': 4, 'be': 148, 'dismay': 1, 'oyster': 1, 'best': 12, 'pencils': 1, 'meeting': 1, 'without': 25, 'twenty': 1, 'inside': 2, 'riddle': 1, 'cake': 3, 'curtain': 1, 'choice': 2, 'toffee': 1, 'paws': 4, 'knot': 2, 'agony': 1, 'rising': 1, 'sticks': 1, 'beautify': 1, 'pigeon': 12, 'existence': 1, 'wild': 2, 'hand': 19, 'listen': 7, 'expected': 1, 'handed': 3, 'hopeful': 1, 'important': 5, 'sink': 1, 'muttered': 2, 'state': 1, 'shorter': 2, 'least': 9, 'quicker': 1, 'boots': 3, 'seven': 5, 'thunderstorm': 1, 'immense': 1, 'row': 2, 'throat': 2, 'addressing': 1, 'beast': 1, 'ugh': 1, 'pray': 2, 'fact': 8, 'beheaded': 3, 'chance': 4, 'consultation': 1, 'can': 35, 'histories': 1, 'nicely': 2, 'kindly': 2, 'last': 33, 'undertone': 2, 'longer': 3, 'knelt': 1, 'someone': 1, 'finish': 5, 'flavour': 1, 'replied': 29, 'locked': 1, 'out': 113, 'shutting': 2, 'chorus': 5, 'sent': 2, 'marmalade': 1, 'against': 9, 'fanned': 1, 'should': 32, 'hoped': 1, 'generally': 7, 'timidly': 9, 'houses': 1, 'moral': 7, 'climb': 1, 'together': 9, 'bent': 1, 'lazily': 1, 'attended': 1, 'stays': 1, 'flowers': 2, 'patience': 1, 'pardoned': 1, 'sugar': 1, 'ones': 1, 'accusation': 1, 'ah': 1, 'shape': 1, 'flapper': 1, 'pictured': 1, 'softly': 1, 'managed': 4, 'tut': 1, 'attends': 1, 'exact': 1, 'altered': 1, 'about': 94, 'line': 2, 'nevertheless': 1, 'burst': 1, 'multiplication': 1, 'stockings': 1, 'violence': 1, 'die': 1, 'tunnel': 1, 'dare': 5, 'find': 21, 'grinned': 3, 'beheading': 1, 'swallowing': 1, 'splashing': 2, 'miles': 3, 'mallets': 1, 'nasty': 1, 'ever': 21, 'felt': 23, 'doth': 3, 'brain': 1, 'rats': 1, 'word': 10, 'curly': 1, 'ready': 8, 'hatters': 1, 'stick': 4, 'frontispiece': 1, 'uglifying': 1, 'australia': 1, 'bitter': 1, 'own': 10, 'given': 1, 'cheered': 3, 'so': 144, 'eagerly': 8, 'dig': 1, 'positively': 1, 'exactly': 6, 'taste': 2, 'form': 1, 'croquet': 6, 'unrolled': 2, 'carry': 1, 'snorting': 1, 'minded': 1, 'too': 26, 'well': 37, 'in': 359, 'ancient': 1, 'certain': 3, 'listening': 3, 'tureen': 1, 'close': 13, 'planning': 1, 'worth': 4, 'busy': 2, 'manage': 7, 'waiting': 9, 'fits': 1, 'terms': 1, 'dunce': 1, 'encouraged': 1, 'sorrows': 1, 'height': 5, 'ran': 16, 'doze': 1, 'opened': 10, 'weeks': 1, 'sadly': 5, 'bringing': 3, 'corners': 1, 'never': 45, 'digging': 3, 'tumbled': 1, 'easy': 2, 'eats': 1, 'hate': 2, 'prove': 1, 'laughter': 1, 'crouched': 1, 'giving': 2, 'corner': 4, 'whiting': 8, 'plate': 3, 'treacle': 3, 'appearing': 1, 'adoption': 1, 'wider': 1, 'sensation': 2, 'beasts': 2, 'opinion': 1, 'inquisitively': 1, 'case': 5, 'lose': 1, 'wine': 2, 'edwin': 2, 'running': 8, 'learnt': 2, 'feel': 8, 'world': 7, 'tied': 1, 'dreadfully': 6, 'signifies': 1, 'pour': 1, 'choosing': 1, 'denying': 1, 'bill': 17, 'dreadful': 2, 'cheap': 1, 'scrambling': 1, 'undoing': 1, 'seaography': 1, 'wherever': 2, 'cards': 3, 'comfortable': 1, 'poured': 1, 'treading': 2, 'lonely': 2, 'changes': 2, 'double': 1, 'turn': 8, 'feathers': 1, 'savage': 4, 'meekly': 2, 'heavy': 2, 'deny': 2, 'loveliest': 1, 'cause': 3, 'poison': 1, 'rome': 2, 'foot': 10, 'confusion': 5, 'sound': 4, 'two': 37, 'pressed': 3, 'respectable': 1, 'because': 12, 'reeds': 1, 'bear': 2, 'resting': 2, 'presently': 2, 'glaring': 1, 'bore': 1, 'sharp': 6, 'faint': 1, 'despair': 1, 'blacking': 1, 'walked': 10, 'idea': 15, 'nibbling': 3, 'watch': 8, 'players': 4, 'walking': 5, 'shaped': 2, 'opposite': 1, 'gazing': 1, 'feather': 1, 'mine': 8, 'youth': 6, 'lamps': 1, 'theirs': 1, 'from': 35, 'gave': 15, 'severely': 4, 'ventured': 4, 'missed': 2, 'evening': 5, 'gardeners': 8, 'show': 3, 'surprise': 5, 'giddy': 2, 'appear': 2, 'loud': 6, 'asking': 5, 'indeed': 16, 'heap': 1, 'piteous': 1, 'railway': 2, 'conversations': 1, 'yesterday': 3, 'hastily': 16, 'dreamy': 1, 'middle': 7, 'rules': 3, 'clapping': 1, 'ourselves': 1, 'hold': 6, 'taking': 5, 'buttercup': 1, 'frowning': 4, 'ground': 5, 'squeaked': 1, 'favoured': 1, 'walrus': 1, 'soldiers': 10, 'comfits': 2, 'rustling': 1, 'lost': 3, 'fast': 4, 'frighten': 1, 'keep': 10, 'nest': 1, 'remarks': 3, 'furrows': 1, 'wink': 2, 'passed': 5, 'c': 1, 'unwillingly': 1, 'thin': 1, 'stretching': 2, 'ootiful': 4, 'chin': 7, 'thirteen': 1, 'remarking': 3, 'puzzle': 1, 'childhood': 1, 'sands': 1, 'jumped': 6, 'rabbit': 47, 'breathe': 3, 'dormouse': 40, 'pegs': 1, 'understand': 6, 'above': 3, 'familiarly': 1, 'bowed': 4, 'real': 3, 'indignant': 1, 'beauti': 1, 'changed': 8, 'diamonds': 1, 'series': 1, 'solemnly': 4, 'turning': 12, 'civil': 3, 'rest': 10, 'jaws': 2, 'animal': 2, 'backs': 1, 'wrong': 5, 'lory': 7, 'right': 30, 'decidedly': 4, 'bee': 1, 'please': 15, 'lay': 4, 'account': 1, 'accident': 2, 'picking': 2, 'shyly': 1, 'rearing': 1, 'stretched': 2, 'crown': 3, 'trembled': 2, 'advance': 2, 'poky': 1, 'neighbour': 1, 'nervous': 5, 'advise': 1, 'hungry': 3, 'fit': 3, 'through': 14, 'beau': 4, 'fallen': 4, 'fat': 1, 'field': 1, 'shoes': 7, 'speed': 1, 'likes': 1, 'stay': 5, 'air': 13, 'pet': 1, 'accidentally': 1, 'lived': 3, 'morals': 1, 'shiver': 1, 'found': 30, 'nobody': 6, 'drawing': 1, 'tongue': 4, 'beautifully': 2, 'bark': 2, 'sixpence': 1, 'stoop': 2, 'evidence': 7, 'straight': 2, 'muttering': 3, 'meat': 1, 'mournfully': 1, 'remembering': 1, 'atom': 2, 'whether': 11, 'sneezing': 6, 'shaking': 3, 'sleepy': 5, 'politely': 6, 'write': 5, 'tails': 3, 'hated': 1, 'listeners': 1, 'presents': 2, 'bats': 4, 'instead': 3, 'geography': 1, 'shall': 23, 'quietly': 5, 'fanning': 1, 'cheerfully': 1, 'violently': 4, 'several': 4, 'dates': 1, 'nay': 1, 'expressing': 1, 'fender': 1, 'lazy': 1, 'dinner': 2, 'powdered': 1, 'again': 83, 'shut': 5, 'scale': 1, 'truth': 1, 'flinging': 1, 'fifth': 1, 'patriotic': 1, 'seem': 8, 'mustard': 2, 'askance': 1, 'loudly': 3, 'shining': 1, 'claws': 2, 'touch': 1, 'raw': 1, 'puzzled': 9, 'shrink': 1, 'marked': 6, 'chains': 1, 'rude': 2, 'himself': 6, 'drowned': 1, 'hands': 12, 'watched': 2, 'no': 77, 'one': 99, 'curious': 19, 'christmas': 1, 'splash': 1, 'sitting': 10, 'other': 40, 'curtsey': 1, 'altogether': 5, 'died': 1, 'trembling': 6, 'dishes': 2, 'cold': 1, 'ordered': 4, 'happened': 7, 'grant': 1, 'away': 25, 'wriggling': 1, 'stingy': 1, 'muchness': 3, 'sulky': 3, 'carrier': 1, 'gravely': 3, 'drunk': 2, 'angry': 5, 'wide': 2, 'present': 3, 'daisies': 1, 'whole': 13, 'porpoise': 4, 'verse': 4, 'thrown': 1, 'asked': 17, 'lodging': 1, 'authority': 2, 'proud': 2, 'grazed': 1, 'believed': 1, 'want': 9, 'sage': 1, 'minding': 1, 'up': 97, 'times': 6, 'immediately': 3, 'rumbling': 1, 'tougher': 1, 'buttered': 1, 'were': 86, 'forwards': 1, 'jaw': 1, 'cats': 13, 'shrieks': 1, 'alternately': 1, 'bed': 1, 'undo': 1, 'sob': 1, 'sternly': 1, 'come': 31, 'boy': 3, 'likely': 5, 'reality': 1, 'advisable': 2, 'usually': 2, 'directly': 2, 'leaders': 1, 'otherwise': 4, 'obliged': 3, 'rosetree': 1, 'reminding': 1, 'usual': 5, 'throwing': 2, 'possibly': 3, 'eating': 1, 'heart': 2, 'returning': 1, 'reason': 9, 'aloud': 5, 'plainly': 1, 'telescopes': 1, 'beg': 8, 'whereupon': 1, 'diligently': 1, 'slipped': 3, 'anything': 19, 'chose': 2, 'upsetting': 1, 'mistake': 3, 'cried': 20, 'simply': 3, 'narrow': 2, 'roof': 6, 'answers': 1, 'continued': 9, 'closed': 2, 'fishes': 1, 'sense': 3, 'tinkling': 1, 'thousand': 2, 'dodged': 1, 'number': 5, 'cackled': 1, 'blades': 1, 'speaker': 1, 'shared': 1, 'invented': 1, 'shore': 3, 'hope': 3, 'swallowed': 1, 'dream': 7, 'an': 56, 'chapter': 12, 'serpent': 7, 'feelings': 2, 'manner': 2, 'panted': 1, 'tidy': 1, 'throw': 3, 'quite': 55, 'measure': 1, 'melancholy': 6, 'reasonable': 1, 'insult': 1, 'remarked': 10, 'scratching': 1, 'shepherd': 1, 'save': 1, 'thought': 74, 'chanced': 1, 'clinging': 1, 'do': 125, 'company': 1, 'filled': 3, 'doubtfully': 2, 'lesson': 1, 'whiskers': 3, 'fly': 3, 'waited': 11, 'instance': 3, 'proceed': 2, 'small': 10, 'leading': 1, 'sat': 17, 'faintly': 1, 'alive': 3, 'branch': 1, 'vanished': 4, 'stool': 1, 'lit': 1, 'impatient': 1, 'edgar': 1, 'begins': 4, 'couples': 1, 'whispered': 5, 'toast': 1, 'harm': 1, 'shrill': 5, 'join': 9, 'winter': 1, 'morcar': 2, 'incessantly': 1, 'enjoy': 1, 'growled': 1, 'red': 2, 'twelve': 4, 'irritated': 1, 'knocked': 1, 'wondering': 7, 'charges': 1, 'murdering': 1, 'distant': 2, 'dead': 4, 'belt': 1, 'four': 6, 'leap': 1, 'pointing': 4, 'beds': 1, 'fountains': 2, 'pope': 1, 'list': 3, 'northumbria': 2, 'had': 184, 'rich': 1, 'position': 2, 'wondered': 1, 'weak': 2, 'jury': 17, 'nor': 2, 'very': 139, 'accounting': 1, 'chief': 1, 'ink': 1, 'louder': 1, 'arm': 12, 'girls': 3, 'impossible': 3, 'panther': 3, 'birds': 10, 'considered': 3, 'place': 8, 'smoking': 2, 'constant': 2, 'derision': 1, 'complained': 1, 'turns': 3, 'pink': 1, 'consider': 1, 'modern': 1, 'age': 4, 'losing': 1, 'iv': 1, 'broken': 6, 'sh': 1, 'suppose': 12, 'thoughtfully': 4, 'executions': 2, 'shrimp': 1, 'particular': 4, 'either': 9, 'shock': 1, 'cutting': 1, 'all': 178, 'imagine': 2, 'snail': 3, 'long': 32, 'wow': 4, 'knock': 1, 'pebbles': 2, 'owl': 3, 'tired': 7, 'merrily': 1, 'timid': 3, 'guessed': 3, 'rattling': 2, 'rapidly': 2, 'learn': 7, 'forgetting': 3, 'french': 4, 'folded': 3, 'remembered': 5, 'the': 1616, 'duchess': 42, 'pointed': 1, 'glad': 11, 'deal': 12, 'bother': 1, 'lessen': 1, 'smile': 2, 'yourself': 10, 'over': 40, 'garden': 16, 'uneasily': 2, 'eleventh': 1, 'fancy': 7, 'couple': 1, 'poker': 1, 'lark': 1, 'worm': 1, 'hers': 4, 'getting': 22, 'alice': 396, 'cur': 1, 'certainly': 13, 'low': 14, 'won': 2, 'passion': 3, 'curiouser': 1, 'sobs': 4, 'canterbury': 1, 'sell': 2, 'still': 13, 'sorry': 1, 'common': 1, 'open': 7, 'roared': 1, 'fell': 6, 'trouble': 6, 'blown': 1, 'kitchen': 4, 'english': 6, 'lizard': 6, 'stupidest': 1, 'suppressed': 4, 'jurymen': 4, 'watching': 3, 'must': 44, 'busily': 4, 'desperately': 1, 'teaching': 1, 'within': 2, 'longitude': 2, 'forget': 2, 'catch': 3, 'coast': 1, 'thing': 49, 'fashion': 2, 'catching': 2, 'escape': 4, 'knowledge': 3, 'sharing': 1, 'tears': 11, 'grow': 13, 'face': 15, 'sorrowful': 2, 'lately': 1, 'dark': 3, 'added': 23, 'general': 3, 'prize': 1, 'nibbled': 2, 'visit': 1, 'proved': 2, 'centre': 1, 'fellows': 1, 'leaving': 1, 'pun': 1, 'mineral': 1, 'child': 10, 'hide': 1, 'itself': 14, 'ridges': 1, 'sighed': 5, 'grave': 3, 'changing': 2, 'heard': 30, 'rightly': 1, 'gryphon': 54, 'full': 6, 'queen': 75, 'somehow': 1, 'pardon': 6, 'rabbits': 1, 'ceiling': 1, 'staring': 3, 'stand': 5, 'shiny': 1, 'inkstand': 1, 'share': 1, 'cat': 36, 'swim': 4, 'moved': 5, 'unfortunate': 3, 'leant': 1, 'comfortably': 1, 'growls': 1, 'pairs': 1, 'eel': 1, 'contemptuously': 2, 'head': 50, 'howled': 1, 'making': 8, 'fine': 2, 'whose': 2, 'partners': 1, 'thanked': 1, 'dull': 3, 'delightful': 2, 'dinah': 12, 'unlocking': 1, 'jogged': 1, 'end': 17, 'says': 4, 'slowly': 8, 'fun': 3, 'tucked': 3, 'easily': 3, 'now': 50, 'ridge': 1, 'purring': 2, 'after': 40, 'drinking': 1, 'grew': 1, 'behind': 13, 'table': 18, 'sits': 1, 'baked': 1, 'raven': 1, 'coward': 1, 'forgot': 2, 'flying': 1, 'rush': 2, 'declared': 1, 'beating': 2, 'waste': 1, 'or': 71, 'silence': 12, 'sun': 2, 'hunting': 3, 'pounds': 1, 'keeping': 2, 'does': 21, 'applause': 1, 'oop': 7, 'until': 4, 'enormous': 1, 'spell': 1, 'imitated': 1, 'people': 13, 'crowd': 4, 'assembled': 2, 'hat': 1, 'stop': 6, 'something': 18, 'involved': 1, 'grey': 1, 'change': 13, 'is': 113, 'school': 5, 'feeble': 2, 'concluded': 2, 'thunder': 1, 'almost': 6, 'holding': 3, 'ridiculous': 1, 'ye': 1, 'sounded': 5, 'its': 57, 'faster': 3, 'occasional': 1, 'stole': 2, 'branches': 2, 'neither': 2, 'solid': 1, 'wig': 2, 'apples': 2, 'answered': 4, 'bad': 2, 'emphasis': 1, 'angrily': 9, 'consented': 1, 'dog': 3, 'spoken': 1, 'canary': 1, 'telling': 2, 'forehead': 2, 'before': 38, 'was': 366, 'thump': 2, 'fish': 4, 'pinch': 2, 'mercia': 2, 'slippery': 1, 'handsome': 1, 'salt': 2, 'judge': 4, 'atheling': 1, 'fortunately': 1, 'hour': 2, 'frightened': 7, 'grumbled': 1, 'w': 1, 'past': 1, 'hundred': 1, 'works': 1, 'telescope': 3, 'proves': 2, 'entrance': 1, 'mushroom': 8, 'trumpet': 3, 'thimble': 4, 'squeaking': 2, 'beautiful': 11, 'here': 48, 'milk': 1, 'roughly': 1, 'somewhere': 3, 'went': 83, 'fifteen': 1, 'meaning': 8, 'teases': 1, 'ordering': 2, 'paint': 1, 'only': 46, 'places': 2, 'difficulty': 4, 'turtle': 58, 'few': 9, 'them': 88, 'begged': 1, 'thick': 1, 'always': 13, 'cross': 1, 'came': 40, 'arranged': 1, 'passionate': 1, 'fellow': 4, 'argument': 4, 'presented': 1, 'dance': 13, 'father': 6, 'puss': 1, 'argued': 1, 'housemaid': 1, 'uncomfortably': 1, 'soup': 18, 'furious': 1, 'inches': 6, 'hearthrug': 1, 'persons': 1, 'smallest': 2, 'lasted': 2, 'house': 18, 'prosecute': 1, 'luckily': 2, 'writing': 4, 'liked': 6, 'pace': 1, 'indignantly': 4, 'great': 39, 'kettle': 1, 'respect': 1, 'finished': 12, 'much': 51, 'brave': 1, 'rushed': 1, 'capital': 4, 'noise': 3, 'burn': 2, 'kick': 3, 'pleasanter': 1, 'fork': 1, 'puppy': 7, 'appeared': 8, 'reply': 5, 'driest': 1, 'explanation': 2, 'closely': 1, 'locks': 2, 'further': 3, 'knave': 9, 'at': 209, 'carrying': 2, 'suddenly': 13, 'latitude': 2, 'printed': 1, 'hanging': 3, 'tremble': 1, 'him': 42, 'sister': 9, 'true': 4, 'pool': 11, 'uncommon': 1, 'crash': 3, 'nine': 4, 'sure': 20, 'twelfth': 1, 'kings': 1, 'fairly': 1, 'conqueror': 2, 'trims': 1, 'secret': 1, 'beat': 4, 'duck': 4, 'alone': 4, 'skurried': 1, 'hours': 4, 'feet': 19, 'down': 102, 'gloves': 11, 'fourth': 1, 'water': 4, 'deepest': 1, 'tortoise': 3, 'late': 6, 'hoping': 3, 'executed': 6, 'stairs': 3, 'cries': 1, 'led': 4, 'whispers': 1, 'singers': 2, 'waving': 5, 'her': 248, 'bough': 1, 'deeply': 4, 'answer': 9, 'excellent': 2, 'home': 5, 'there': 87, 'pity': 3, 'mouth': 10, 'moon': 1, 'clearly': 1, 'hippopotamus': 1, 'trees': 7, 'axes': 1, 'son': 1, 'ate': 1, 'maps': 1, 'rudeness': 1, 'between': 6, 'crazy': 1, 'disappointment': 1, 'twice': 5, 'honour': 4, 'magpie': 1, 'pronounced': 1, 'known': 1, 'upon': 26, 'uneasy': 1, 'words': 21, 'cupboards': 2, 'earth': 4, 'bristling': 1, 'producing': 1, 'took': 24, 'merely': 2, 'dainties': 1, 'rope': 1, 'newspapers': 1, 'pleases': 1, 'ought': 14, 'key': 9, 'tricks': 1, 'suet': 1, 'conquest': 1, 'reading': 3, 'seaside': 1, 'walk': 5, 'shrinking': 4, 'overcome': 1, 'content': 1, 'kneel': 1, 'listened': 1, 'strange': 5, 'prettier': 1, 'supple': 1, 'drawling': 2, 'short': 4, 'hair': 7, 'run': 4, 'rather': 25, 'once': 32, 'straightening': 1, 'things': 30, 'balanced': 1, 'stirring': 2, 'denied': 2, 'retire': 1, 'leaves': 6, 'bird': 2, 'crab': 3, 'rapped': 1, 'distance': 8, 'guard': 1, 'chimney': 6, 'got': 45, 'fight': 2, 'managing': 1, 'soldier': 1, 'depends': 1, 'explain': 8, 'stopped': 3, 'rise': 1, 'sudden': 5, 'really': 10, 'since': 4, 'call': 5, 'repeat': 6, 'neck': 7, 'finger': 5, 'attending': 3, 'label': 2, 'rippling': 1, 'gently': 3, 'free': 3, 'hall': 9, 'screamed': 4, 'uncorked': 1, 'ways': 1, 'ladder': 1, 'send': 1, 'adventures': 7, 'hatching': 1, 'none': 4, 'sprawling': 1, 'onions': 1, 'proposal': 1, 'butter': 3, 'hoarsely': 1, 'snappishly': 1, 'panting': 2, 'pitied': 1, 'birthday': 1, 'little': 128, 'makes': 11, 'pinched': 2, 'cheated': 1, 'triumphantly': 2, 'trial': 10, 'zigzag': 1, 'sir': 7, 'lobster': 7, 'game': 13, 'turtles': 2, 'pencil': 1, 'nearer': 5, 'week': 3, 'tremulous': 1, 'stupid': 3, 'how': 52, 'condemn': 1, 'simpleton': 1, 'size': 13, 'raising': 1, 'coaxing': 2, 'anxiously': 14, 'loving': 1, 'crept': 1, 'classics': 1, 'uncommonly': 1, 'hedge': 2, 'butterfly': 1, 'whistling': 1, 'began': 58, 'under': 16, 'paris': 2, 'choked': 3, 'blasts': 2, 'he': 117, 'family': 1, 'remark': 10, 'bend': 2, 'sharply': 4, 'draggled': 1, 'others': 7, 'begun': 7, 'below': 3, 'believe': 9, 'patted': 1, 'serpents': 3, 'entirely': 2, 'back': 37, 'fainting': 1, 'paper': 4, 'fig': 1, 'interrupting': 2, 'wise': 2, 'draw': 7, 'setting': 1, 'love': 3, 'morning': 5, 'front': 2, 'clubs': 1, 'somersault': 1, 'afterwards': 2, 'raised': 2, 'look': 27, 'difficulties': 1, 'piece': 5, 'puzzling': 4, 'sizes': 1, 'actually': 1, 'fancied': 2, 'noticing': 1, 'pack': 5, 'buttons': 1, 'snatch': 2, 'calmly': 1, 'caused': 2, 'processions': 1, 'fixed': 1, 'takes': 2, 'lives': 2, 'shelves': 1, 'goes': 7, 'eels': 1, 'taught': 4, 'oblong': 1, 'wo': 23, 'drive': 1, 'prevent': 1, 'd': 1, 'yawned': 2, 'names': 2, 'animals': 4, 'scream': 2, 'execute': 1, 'produced': 1, 'e': 6, 'peering': 1, 'pennyworth': 2, 'brightened': 2, 'everything': 13, 'crossly': 1, 'interesting': 5, 'useful': 2, 'crowded': 5, 'adjourn': 1, 'distraction': 1, 'balls': 1, 'refused': 1, 'dropping': 1, 'playing': 2, 'slightest': 1, 'however': 19, 'signify': 1, 'asleep': 8, 'remember': 14, 'queerest': 1, 'eye': 7, 'joys': 1, 'closer': 1, 'whatever': 3, 'called': 15, 'crawling': 1, 'such': 41, 'herself': 83, 'paw': 3, 'mile': 2, 'sigh': 4, 'wearily': 1, 'jurors': 4, 'mind': 11, 'blow': 2, 'pigs': 2, 'among': 12, 'hedgehogs': 3, 'hookah': 5, 'recovered': 2, 'ring': 2, 'knocking': 3, 'sorts': 3, 'doubt': 4, 'readily': 1, 'vague': 1, 'brass': 1, 'ledge': 1, 'dropped': 5, 'spread': 3, 'raving': 2, 'terrier': 1, 'figure': 3, 'night': 3, 'antipathies': 1, 'taller': 2, 'half': 21, 'cakes': 3, 'skirt': 1, 'unfolded': 2, 'nodded': 1, 'yet': 25, 'wandering': 2, 'lady': 3, 'prison': 1, 'fan': 10, 'picked': 3, 'already': 2, 'has': 9, 'riper': 1, 'if': 75, 'throne': 1, 'standing': 1, 'ann': 4, 'first': 50, 'hurry': 11, 'way': 53, 'puffed': 1, 'laugh': 1, 'goose': 2, 'burnt': 1, 'tiny': 4, 'older': 2, 'frog': 2, 'sentenced': 1, 'mark': 3, 'yer': 4, 'tail': 9, 'flown': 1, 'yelp': 1, 'character': 1, 'custard': 1, 'offend': 1, 'messages': 2, 'iii': 1, 'globe': 1, 'life': 11, 'dodo': 13, 'eyes': 28, 'finds': 1, 'educations': 1, 'soon': 25, 'marched': 1, 'pictures': 4, 'eat': 17, 'later': 3, 'putting': 3, 'underneath': 1, 'gay': 1, 't': 1, 'sad': 3, 'vote': 1, 'clearer': 1, 'tossing': 3, 'quarrel': 1, 'surprised': 7, 'subjects': 1, 'better': 14, 'stiff': 1, 'effect': 3, 'fix': 1, 'thatched': 1, 'oldest': 1, 'take': 20, 'england': 1, 'around': 3, 'advice': 2, 'quickly': 2, 'like': 85, 'my': 56, 'besides': 3, 'severity': 1, 'egg': 1, 'woman': 2, 'talking': 16, 'pretending': 1, 'across': 5, 'means': 5, 'stalk': 1, 'burning': 1, 'door': 30, 'nursing': 3, 'kissed': 1, 'tells': 2, 'feared': 1, 'helped': 1, 'sending': 2, 'else': 12, 'golden': 7, 'dinn': 2, 'quiet': 2, 'doorway': 1, 'smoke': 1, 'direction': 5, 'white': 30, 'precious': 1, 'doing': 5, 'declare': 2, 'quick': 2, 'shingle': 1, 'would': 90, 'seemed': 27, 'delighted': 2, 'wants': 2, 'eggs': 5, 'doubling': 1, 'handwriting': 1, 'carried': 4, 'young': 5, 'solemn': 3, 'breeze': 1, 'bank': 3, 'truthful': 1, 'chuckled': 1, 'arrow': 1, 'terror': 1, 'licking': 1, 'done': 15, 'lullaby': 1, 'many': 12, 'seen': 15, 'ointment': 1, 'sighing': 3, 'riddles': 1, 'teeth': 1, 'offer': 2, 'ours': 1, 'officer': 1, 'darkness': 1, 'spoke': 17, 'expression': 1, 'passing': 1, 'being': 19, 'win': 1, 'why': 18, 'schoolroom': 1, 'wish': 21, 'heels': 1, 'writhing': 1, 'attempt': 1, 'lessons': 10, 'xi': 1, 'neatly': 2, 'work': 8, 'bound': 1, 'haste': 1, 'mischief': 1, 'sisters': 2, 'tillie': 1, 'bottom': 4, 'somebody': 6, 'howling': 3, 'live': 8, 'whisper': 3, 'humbly': 2, 'smiling': 2, 'both': 14, 'hard': 8, 'fall': 7, 'often': 5, 'sang': 2, 'punching': 1, 'arguments': 1, 'skimming': 1, 'ada': 1, 'crossed': 3, 'leaning': 2, 'shrieked': 1, 'encouraging': 2, 'wash': 2, 'lying': 8, 'immediate': 1, 'wind': 2, 'subdued': 1, 'executes': 1, 'themselves': 3, 'squeeze': 1, 'oneself': 1, 'languid': 1, 'hearing': 4, 'startled': 2, 'every': 12, 'foolish': 1, 'deserved': 1, 'creep': 1, 'kid': 5, 'grown': 7, 'stopping': 1, 'leave': 7, 'cool': 2, 'saying': 15, 'eaglet': 3, 'crashed': 1, 'whom': 1, 'growling': 1, 'possible': 1, 'furiously': 1, 'submitted': 1, 'purple': 1, 'hurt': 3, 'push': 1, 'set': 14, 'pair': 5, 'nice': 6, 'used': 13, 'cautiously': 3, 'tastes': 1, 'hatter': 56, 'recognised': 1, 'also': 2, 'fond': 4, 'race': 2, 'secondly': 2, 'dispute': 2, 'sends': 1, 'doors': 2, 'picture': 1, 'shade': 1, 'king': 62, 'grin': 6, 'idiotic': 1, 'steady': 1, 'interrupt': 1, 'baby': 13, 'perhaps': 14, 'could': 86, 'awfully': 1, 'upset': 3, 'delight': 3, 'tis': 1, 'brush': 1, 'improve': 1, 'settled': 3, 'queens': 1, 'tea': 13, 'your': 60, 'break': 2, 'am': 15, 'threw': 2, 'swam': 5, 'usurpation': 1, 'joined': 3, 'window': 8, 'belongs': 2, 'invited': 2, 'tie': 1, 'tomorrow': 1, 'daughter': 1, 'ignorant': 1, 'sit': 6, 'years': 1, 'court': 18, 'nose': 8, 'majesty': 12, 'which': 45, 'dish': 4, 'follows': 3, 'introduced': 1, 'speaking': 5, 'subject': 6, 'gone': 13, 'paused': 1, 'gallons': 1, 'brother': 1, 'happening': 1, 'told': 6, 'unless': 1, 'think': 53, 'another': 22, 'ca': 24, 'tide': 1, 'moderate': 1, 'swimming': 2, 'collected': 2, 'bleeds': 1, 'brown': 2, 'bathing': 1, 'advantage': 3, 'graceful': 1, 'lobsters': 7, 'lastly': 1, 'trying': 14, 'extremely': 2, 'ornamented': 2, 'purpose': 1, 'silent': 7, 'cardboard': 1, 'a': 631, 'you': 356, 'splashed': 1, 'bit': 16, 'fading': 1, 'bring': 2, 'our': 8, 'remedies': 1, 'tone': 40, 'have': 84, 'royal': 2, 'encourage': 1, 'with': 179, 'teacups': 2, 'opportunity': 8, 'circumstances': 1, 'saw': 14, 'happy': 1, 'letters': 1, 'tumbling': 2, 'rubbing': 2, 'downwards': 1, 'settle': 1, 'examining': 1, 'elbows': 1, 'largest': 1, 'vegetable': 1, 'kiss': 1, 'respectful': 1, 'repeated': 10, 'large': 33, 'soothing': 1, 'girl': 4, 'rattle': 1, 'completely': 1, 'wandered': 2, 'curving': 1, 'decided': 3, 'complaining': 1, 'turkey': 1, 'station': 1, 'kept': 13, 'except': 4, 'interest': 1, 'ears': 5, 'nurse': 3, 'adding': 1, 'hardly': 12, 'swallow': 1, 'grand': 3, 'near': 15, 'uncomfortable': 4, 'footmen': 1, 'considering': 3, 'brought': 3, 'faces': 5, 'salmon': 1, 'towards': 1, 'dry': 8, 'unimportant': 2, 'engaged': 1, 'extras': 1, 'uglification': 2, 'occurred': 2, 'minute': 21, 'upstairs': 1, 'lad': 1, 'straightened': 1, 'cheeks': 1, 'eaten': 1, 'woke': 1, 'more': 49, 'kill': 1, 'ache': 1, 'business': 7, 'ravens': 1, 'hurriedly': 2, 'flat': 2, 'green': 4, 'stupidly': 1, 'courtiers': 2, 'bag': 1, 'repeating': 3, 'land': 1, 'promised': 1, 'different': 9, 'far': 13, 'tale': 4, 'they': 135, 'uglify': 1, 'lowing': 1, 'cost': 1, 'mean': 10, 'hiss': 1, 'lifted': 1, 'length': 1, 'eh': 1, 'scroll': 2, 'outside': 4, 'knowing': 2, 'fur': 3, 'extraordinary': 2, 'waist': 1, 'wait': 1, 'care': 4, 'officers': 4, 'voice': 48, 'mary': 3, 'terribly': 1, 'directions': 3, 'shifting': 1, 'attempted': 1, 'placed': 1, 'five': 8, 'soo': 6, 'calling': 1, 'venture': 3, 'simple': 5, 'funny': 3, 'rose': 1, 'treated': 1, 'empty': 1, 'removed': 2, 'sort': 20, 'notice': 5, 'breath': 4, 'noticed': 8, 'growl': 3, 'growing': 11, 'miserable': 2, 'pleased': 7, 'learning': 2, 'worse': 3, 'today': 1, 'cleared': 1, 'cattle': 1, 'sign': 1, 'larger': 7, 'camomile': 1, 'bawled': 1, 'clock': 2, 'safe': 2, 'upright': 1, 'beloved': 1, 'those': 10, 'minutes': 11, 'lie': 2, 'audibly': 1, 'hedgehog': 7, 'invitation': 2, 'hush': 2, 'bone': 1, 'executioner': 6, 'hid': 1, 'earls': 2, 'passage': 4, 'practice': 1, 'friends': 2, 'happens': 5, 'matter': 9, 'arch': 1, 'beginning': 14, 'not': 135, 'london': 1, 'meal': 1, 'boldly': 1, 'lefthand': 2, 'myself': 7, 'person': 4, 'ending': 1, 'questions': 3, 'contradicted': 1, 'hearth': 1, 'enough': 18, 'confused': 4, 'painting': 2, 'invent': 1, 'dive': 1, 'bite': 2, 'some': 50, 'trot': 1, 'box': 4, 'impertinent': 1, 'judging': 1, 'dripping': 1, 'procession': 5, 'signed': 2, 'difficult': 2, 'introduce': 2, 'disgust': 1, 'left': 14, 'returned': 2, 'queer': 10, 'rock': 1, 'occasionally': 1, 'contempt': 1, 'course': 25, 'roast': 1, 'wag': 1, 'pass': 1, 'sorrow': 2, 'any': 38, 'wept': 1, 'conduct': 1, 'thoroughly': 2, 'neighbouring': 1, 'screaming': 1, 'ferrets': 2, 'looking': 30, 'this': 131, 'fluttered': 1, 'elsie': 1, 'move': 3, 'hedges': 1, 'heads': 10, 'lower': 1, 'explained': 1, 'seriously': 1, 'coils': 1, 'teacup': 3, 'might': 28, 'wander': 1, 'mentioned': 3, 'deep': 7, 'affectionately': 1, 'fright': 2, 'vulgar': 1, 'smiled': 2, 'ten': 5, 'march': 34, 'pattering': 3, 'relieved': 1, 'nile': 1, 'summer': 2, 'search': 1, 'yelled': 1, 'country': 1, 'snout': 1, 'curled': 2, 'go': 48, 'mixed': 2, 'laughed': 2, 'circle': 1, 'machines': 1, 'fear': 4, 'bursting': 1, 'help': 9, 'injure': 1, 'gained': 1, 'interrupted': 9, 'righthand': 1, 'wanted': 4, 'cushion': 2, 'flame': 1, 'books': 1, 'spreading': 1, 'party': 8, 'witness': 10, 'six': 2, 'twinkled': 1, 'bowing': 1, 'neat': 1, 'squeezed': 1, 'obstacle': 1, 'where': 13, 'crying': 2, 'jumping': 4, 'pat': 2, 'tight': 1, 'legs': 3, 'flock': 1, 'ago': 2, 'desperate': 1, 'blows': 1, 'refreshments': 1, 'croqueted': 1, 'disagree': 1, 'while': 25, 'pleasing': 1, 'till': 19, 'needs': 1, 'anywhere': 1, 'parts': 1, 'lines': 1, 'living': 1, 'anxious': 3, 'trials': 1, 'days': 4, 'meanwhile': 1, 'name': 10, 'side': 17, 'engraved': 1, 'thinking': 10, 'question': 17, 'daresay': 1, 'violent': 2, 'sulkily': 2, 'barking': 1, 'crumbs': 3, 'pig': 8, 'sneezed': 1, 'xii': 1, 'fancying': 1, 'rate': 9, 'directed': 2, 'fair': 1, 'mad': 15, 'wet': 2, 'though': 11, 'carefully': 3, 'appearance': 1, 'spoon': 2, 'lacie': 1, 'drink': 4, 'tried': 19, 'quarrelled': 1, 'strings': 1, 'grins': 1, 'who': 56, 'book': 7, 'disobey': 1, 'quarrelling': 2, 'thank': 1, 'stuff': 3, 'flung': 1, 'dears': 3, 'meet': 2, 'caterpillar': 28, 'guests': 3, 'talk': 14, 'friend': 3, 'dipped': 2, 'understood': 1, 'shark': 1, 'odd': 1, 'fighting': 1, 'curls': 1, 'plan': 4, 'murder': 1, 'stamping': 2, 'absence': 1, 'denial': 1, 'alas': 4, 'sneezes': 2, 'shakespeare': 1, 'fetch': 5, 'lips': 1, 'latin': 1, 'jar': 2, 'promise': 1, 'hopeless': 1, 'welcome': 1, 'forgotten': 6, 'seldom': 1, 'grinning': 1, 'candle': 3, 'arrived': 1, 'held': 4, 'top': 8, 'wonderland': 3, 'variations': 1, 'next': 30, 'wasting': 2, 'afford': 1, 'floor': 3, 'clamour': 1, 'magic': 1, 'tarts': 7, 'rubbed': 1, 'muddle': 1, 'try': 12, 'mournful': 1, 'entangled': 2, 'honest': 1, 'fidgeted': 1, 'x': 1, 'followed': 8, 'editions': 2, 'smaller': 3, 'for': 146, 'trusts': 1, 'chrysalis': 1, 'hear': 14, 'peeping': 1, 'grunted': 4, 'permitted': 1, 'hit': 2, 'get': 44, 'nearly': 10, 'been': 38, 'boon': 1, 'anger': 2, 'noises': 1, 'brushing': 1, 'wings': 1, 'earnestly': 2, 'use': 18, 'energetic': 1, 'tipped': 1, 'spectacles': 3, 'plates': 2, 'waters': 1, 'year': 2, 'wood': 8, 'able': 1, 'farmer': 1, 'three': 25, 'play': 8, 'remained': 3, 'boxed': 1, 'protection': 1, 'choking': 1, 'experiment': 2, 'doubtful': 2, 'less': 4, 'maybe': 2, 'cook': 13, 'gloomily': 1, 'time': 68, 'journey': 1, 'brandy': 1, 'reduced': 1, 'favourite': 1, 'mabel': 4, 'speech': 3, 'each': 7, 'pretty': 1, 'ugly': 2, 'exclaimed': 6, 'overhead': 1, 'hollow': 1, 'promising': 1, 'shillings': 1, 'labelled': 1, 'crimson': 2, 'caught': 3, 'annoy': 1, 'arches': 4, 'ful': 1, 'glanced': 1, 'eager': 3, 'sight': 10, 'denies': 1, 'toes': 3, 'unpleasant': 2, 'hoarse': 3, 'singing': 2, 'extra': 1, 'checked': 3, 'tittered': 1, 'toys': 1, 'opening': 3, 'yards': 1, 'washing': 3, 'mock': 56, 'twist': 2, 'rises': 1, 'acceptance': 1, 'agree': 2, 'gravy': 1, 'sobbing': 3, 'off': 65, 'moving': 3, 'sobbed': 1, 'partner': 1, 'pulling': 1, 'blame': 1, 'dried': 1, 'viii': 1, 'annoyed': 1, 'written': 6, 'most': 8, 'worried': 1, 'whiles': 1, 'death': 1, 'warning': 1, 'axis': 1, 'shake': 1, 'started': 2, 'shriek': 5, 'sounds': 4, 'pence': 1, 'est': 1, 'twentieth': 1, 'say': 51, 'wonder': 18, 'currants': 1, 'unable': 1, 'instantly': 5, 'old': 19, 'linked': 1, 'saucepan': 1, 'pie': 2, 'banquet': 1, 'nonsense': 6, 'dreaming': 1, 'parchment': 2, 'esq': 1, 'footman': 11, 'cauldron': 2, 'custody': 2, 'untwist': 1, 'matters': 2, 'alarmed': 1, 'inclined': 1, 'cunning': 1, 'guilt': 1, 'dressed': 1, 'we': 22, 'furrow': 1, 'thistle': 2, 'normans': 1, 'afore': 1, 'kills': 1, 'struck': 2, 'verses': 4, 'abide': 1, 'sneeze': 2, 'us': 14, 'clean': 1, 'vanishing': 1, 'inwards': 1, 'hurried': 11, 'reasons': 1, 'airs': 1, 'cut': 5, 'suppress': 1, 'song': 7, 'result': 1, 'blew': 2, 'sand': 1, 'stood': 7, 'hearts': 8, 'justice': 1, 'became': 2, 'juror': 1, 'twinkle': 7, 'fireplace': 1, 'memory': 1, 'tell': 29, 'flew': 1, 'cup': 2, 'dancing': 2, 'elbow': 3, 'mouse': 42, 'lest': 1, 'knuckles': 1, 'thoughts': 2, 'to': 720, 'wore': 1, 'uncivil': 1, 'on': 191, 'alarm': 2, 'music': 3, 'manners': 1, 'failure': 1, 'disappeared': 2, 'goldfish': 2, 'avoid': 1, 'flamingo': 5, 'pressing': 1, 'shook': 9, 'concert': 2, 'confusing': 3, 'unhappy': 2, 'even': 19, 'delay': 1, 'grunt': 1, 'kind': 7, 'attempts': 1, 'teapot': 1, 'drop': 1, 'learned': 1, 'chimneys': 1, 'curtseying': 1, 'month': 2, 'seems': 5, 'wooden': 1, 'played': 1, 'clasped': 1, 'tops': 1, 'grief': 1, 'falling': 2, 'wags': 1, 'canvas': 1, 'taken': 4, 'dear': 28, 'bat': 3, 'mystery': 2, 'notion': 3, 'pleaded': 3, 'zealand': 1, 'flustered': 1, 'rustled': 1, 'finishing': 1, 'shilling': 1, 'arithmetic': 1, 'ringlets': 2, 'history': 7, 'conclusion': 2, 'contemptuous': 1, 'elegant': 1, 'helpless': 1, 'need': 3, 'make': 27, 'and': 810, 'downward': 1, 'meant': 5, 'scaly': 1, 'laughing': 2, 'sluggard': 1, 'flamingoes': 1, 'order': 3, 'as': 256, 'did': 74, 'part': 2, 'dreamed': 1, 'see': 67, 'peeped': 3, 'flurry': 1, 'sing': 6, 'what': 103, 'mostly': 2, 'longed': 2, 'new': 5, 'proper': 3, 'accustomed': 1, 'humble': 1, 'hint': 2, 'when': 74, 'stigand': 1, 'room': 13, 'it': 539, 'velvet': 1, 'remain': 1, 'settling': 1, 'act': 1, 'inquired': 1, 'everybody': 6, 'spades': 1}\n"
     ]
    }
   ],
   "source": [
    "countWord, uniqueWord, filtered_word_freq = getWordCount_UniqueWord_frequency()"
   ]
  },
  {
   "cell_type": "code",
   "execution_count": 6,
   "metadata": {
    "scrolled": false
   },
   "outputs": [],
   "source": [
    "mostCommon25 = counters.most_common(25)\n",
    "\n",
    "aux = [(counters[key], key) for key in counters]\n",
    "aux.sort()\n",
    "aux.reverse()\n",
    "k = 0\n",
    "j = 0\n",
    "startwithC = dict()\n",
    "for key,value in aux:\n",
    "    \n",
    "    k+=1\n",
    "    if k > 25:\n",
    "        if(value.startswith(\"c\")):\n",
    "            startwithC[value] = key\n",
    "            j+=1\n",
    "            if j >=25:\n",
    "                break\n",
    "                \n",
    "frequent50 = dict()\n",
    "for key,value in mostCommon25:\n",
    "    frequent50[key] = value\n",
    "\n",
    "final_dict={**frequent50,**startwithC}"
   ]
  },
  {
   "cell_type": "code",
   "execution_count": 7,
   "metadata": {},
   "outputs": [
    {
     "name": "stdout",
     "output_type": "stream",
     "text": [
      "{'of': 499, 'cried': 20, 'i': 533, 'conversation': 10, 'cook': 13, 'at': 209, 'caterpillar': 28, 'child': 10, 'can': 35, 'curious': 19, 'creatures': 9, 'she': 544, 'change': 13, 'court': 18, 'said': 462, 'continued': 9, 'so': 144, 'course': 25, 'with': 179, 'children': 10, 'chapter': 12, 'her': 248, 'coming': 9, 'in': 359, 'alice': 396, 'be': 148, 'ca': 24, 'a': 631, 'very': 139, 'that': 284, 'called': 15, 'and': 810, 'changed': 8, 'was': 366, 'as': 256, 'for': 146, 'cat': 36, 'certainly': 13, 'you': 356, 'cats': 13, 'came': 40, 'close': 13, 'come': 31, 'the': 1616, 'all': 178, 'it': 539, 'had': 184, 'to': 720, 'could': 86, 'on': 191}\n"
     ]
    }
   ],
   "source": [
    "print(final_dict)"
   ]
  },
  {
   "cell_type": "code",
   "execution_count": 8,
   "metadata": {},
   "outputs": [],
   "source": [
    "rank=[(i + 1,d) for i,d in enumerate(aux) if d[1] in final_dict.keys()]"
   ]
  },
  {
   "cell_type": "code",
   "execution_count": 9,
   "metadata": {},
   "outputs": [
    {
     "name": "stdout",
     "output_type": "stream",
     "text": [
      "Rank: \n",
      "[(1, (1616, 'the')), (2, (810, 'and')), (3, (720, 'to')), (4, (631, 'a')), (5, (544, 'she')), (6, (539, 'it')), (7, (533, 'i')), (8, (499, 'of')), (9, (462, 'said')), (10, (396, 'alice')), (11, (366, 'was')), (12, (359, 'in')), (13, (356, 'you')), (14, (284, 'that')), (15, (256, 'as')), (16, (248, 'her')), (17, (209, 'at')), (18, (191, 'on')), (19, (184, 'had')), (20, (179, 'with')), (21, (178, 'all')), (22, (148, 'be')), (23, (146, 'for')), (24, (144, 'so')), (25, (139, 'very')), (46, (86, 'could')), (112, (40, 'came')), (121, (36, 'cat')), (123, (35, 'can')), (134, (31, 'come')), (150, (28, 'caterpillar')), (165, (25, 'course')), (169, (24, 'ca')), (190, (20, 'cried')), (198, (19, 'curious')), (209, (18, 'court')), (238, (15, 'called')), (279, (13, 'cook')), (280, (13, 'close')), (281, (13, 'change')), (282, (13, 'certainly')), (283, (13, 'cats')), (302, (12, 'chapter')), (357, (10, 'conversation')), (358, (10, 'children')), (359, (10, 'child')), (387, (9, 'creatures')), (388, (9, 'continued')), (389, (9, 'coming')), (435, (8, 'changed'))]\n"
     ]
    }
   ],
   "source": [
    "print(\"Rank: \")\n",
    "print(rank)"
   ]
  },
  {
   "cell_type": "code",
   "execution_count": 10,
   "metadata": {},
   "outputs": [],
   "source": [
    "totalWordCount = countWord\n",
    "probabilityDictonary = dict()\n",
    "for s in final_dict:\n",
    "    probabilityDictonary[s] = final_dict[s]/totalWordCount\n"
   ]
  },
  {
   "cell_type": "code",
   "execution_count": 11,
   "metadata": {},
   "outputs": [
    {
     "name": "stdout",
     "output_type": "stream",
     "text": [
      "probability dictonary: \n",
      "{'of': 0.019596292805529374, 'cried': 0.0007854225573358467, 'i': 0.020931511153000314, 'a': 0.02478008168394596, 'conversation': 0.00039271127866792333, 'at': 0.008207665724159598, 'caterpillar': 0.0010995915802701854, 'child': 0.00039271127866792333, 'can': 0.0013744894753377316, 'cook': 0.0005105246622683004, 'creatures': 0.000353440150801131, 'so': 0.005655042412818096, 'change': 0.0005105246622683004, 'court': 0.000706880301602262, 'said': 0.01814326107445806, 'continued': 0.000353440150801131, 'she': 0.02136349355953503, 'course': 0.0009817781966698083, 'children': 0.00039271127866792333, 'cat': 0.001413760603204524, 'her': 0.0097392397109645, 'coming': 0.000353440150801131, 'in': 0.014098334904178448, 'alice': 0.015551366635249765, 'be': 0.0058121269242852654, 'ca': 0.000942507068803016, 'came': 0.0015708451146716933, 'close': 0.0005105246622683004, 'curious': 0.0007461514294690543, 'that': 0.011153000314169022, 'called': 0.000589066918001885, 'and': 0.03180961357210179, 'to': 0.02827521206409048, 'changed': 0.00031416902293433867, 'was': 0.014373232799245994, 'the': 0.06346214263273642, 'as': 0.010053408733898837, 'for': 0.005733584668551681, 'certainly': 0.0005105246622683004, 'you': 0.013980521520578071, 'cats': 0.0005105246622683004, 'very': 0.005458686773484134, 'come': 0.0012174049638705624, 'with': 0.007029531888155828, 'all': 0.006990260760289036, 'it': 0.021167137920201067, 'had': 0.007225887527489789, 'chapter': 0.000471253534401508, 'could': 0.0033773169965441406, 'on': 0.007500785422557336}\n"
     ]
    }
   ],
   "source": [
    "print(\"probability dictonary: \")    \n",
    "print(probabilityDictonary)"
   ]
  },
  {
   "cell_type": "code",
   "execution_count": 12,
   "metadata": {},
   "outputs": [],
   "source": [
    "rankProbability = dict()\n",
    "for r,k in rank:\n",
    "    rankProbability[k[1]] = (r) * probabilityDictonary[k[1]]"
   ]
  },
  {
   "cell_type": "code",
   "execution_count": 13,
   "metadata": {},
   "outputs": [
    {
     "name": "stdout",
     "output_type": "stream",
     "text": [
      "Multiplication of rank and Probability:\n",
      "{'children': 0.14059063776311656, 'of': 0.156770342444235, 'cried': 0.14923028589381088, 'i': 0.1465205780710022, 'conversation': 0.14019792648444862, 'at': 0.13953031731071316, 'caterpillar': 0.1649387370405278, 'child': 0.14098334904178447, 'can': 0.169062205466541, 'cook': 0.1424363807728558, 'creatures': 0.1367813383600377, 'she': 0.10681746779767515, 'change': 0.1434574300973924, 'court': 0.14773798303487276, 'said': 0.16328934967012254, 'continued': 0.13713477851083883, 'so': 0.1357210179076343, 'course': 0.16199340245051835, 'with': 0.14059063776311656, 'cat': 0.17106503298774742, 'chapter': 0.1423185673892554, 'her': 0.155827835375432, 'coming': 0.13748821866163996, 'in': 0.1691800188501414, 'alice': 0.15551366635249764, 'be': 0.12786679233427584, 'ca': 0.1592836946277097, 'a': 0.09912032673578385, 'close': 0.1429469054351241, 'curious': 0.14773798303487276, 'that': 0.1561420043983663, 'called': 0.14019792648444862, 'and': 0.06361922714420358, 'changed': 0.13666352497643733, 'was': 0.15810556079170593, 'as': 0.15080113100848255, 'for': 0.13187244737668866, 'certainly': 0.1439679547596607, 'you': 0.18174677976751494, 'cats': 0.144478479421929, 'came': 0.17593465284322965, 'very': 0.13646716933710334, 'come': 0.16313226515865537, 'the': 0.06346214263273642, 'all': 0.14679547596606976, 'it': 0.1270028275212064, 'had': 0.137291863022306, 'to': 0.08482563619227144, 'could': 0.15535658184103046, 'on': 0.13501413760603204}\n"
     ]
    }
   ],
   "source": [
    "print(\"Multiplication of rank and Probability:\")\n",
    "print(rankProbability)"
   ]
  },
  {
   "cell_type": "code",
   "execution_count": 14,
   "metadata": {},
   "outputs": [],
   "source": [
    "rf = dict()\n",
    "for r,k in rank:\n",
    "    rf[k[1]] = r * final_dict[k[1]]"
   ]
  },
  {
   "cell_type": "code",
   "execution_count": 15,
   "metadata": {},
   "outputs": [
    {
     "name": "stdout",
     "output_type": "stream",
     "text": [
      "Multiplication of rank and frequency: \n",
      "{'children': 3580, 'of': 3992, 'cried': 3800, 'i': 3731, 'conversation': 3570, 'at': 3553, 'caterpillar': 4200, 'child': 3590, 'can': 4305, 'cook': 3627, 'creatures': 3483, 'she': 2720, 'change': 3653, 'court': 3762, 'said': 4158, 'continued': 3492, 'so': 3456, 'course': 4125, 'with': 3580, 'cat': 4356, 'chapter': 3624, 'her': 3968, 'coming': 3501, 'in': 4308, 'alice': 3960, 'be': 3256, 'ca': 4056, 'a': 2524, 'close': 3640, 'curious': 3762, 'that': 3976, 'called': 3570, 'and': 1620, 'changed': 3480, 'was': 4026, 'as': 3840, 'for': 3358, 'certainly': 3666, 'you': 4628, 'cats': 3679, 'came': 4480, 'very': 3475, 'come': 4154, 'the': 1616, 'all': 3738, 'it': 3234, 'had': 3496, 'to': 2160, 'could': 3956, 'on': 3438}\n"
     ]
    }
   ],
   "source": [
    "print(\"Multiplication of rank and frequency: \")\n",
    "print(rf)\n",
    "\n"
   ]
  },
  {
   "cell_type": "code",
   "execution_count": 16,
   "metadata": {},
   "outputs": [
    {
     "data": {
      "text/plain": [
       "<BarContainer object of 50 artists>"
      ]
     },
     "execution_count": 16,
     "metadata": {},
     "output_type": "execute_result"
    },
    {
     "data": {
      "image/png": "[encoded data removed]",
      "text/plain": [
       "<Figure size 432x288 with 1 Axes>"
      ]
     },
     "metadata": {
      "needs_background": "light"
     },
     "output_type": "display_data"
    }
   ],
   "source": [
    "\n",
    "rankProbFrequency = {}\n",
    "for r,t in rank:\n",
    "    rankProbFrequency.setdefault(t[1],{})['rank'] = r\n",
    "    rankProbFrequency.setdefault(t[1],{})['frequency'] = t[0]\n",
    "    rankProbFrequency.setdefault(t[1],{})['probability'] = probabilityDictonary[t[1]]\n",
    "    rankProbFrequency.setdefault(t[1],{})['rXp'] = rankProbability[t[1]]\n",
    "    rankProbFrequency.setdefault(t[1],{})['rXf'] = rf[t[1]]\n",
    "\n",
    "x = []\n",
    "y = []\n",
    "i =0\n",
    "for key in  rankProbFrequency:\n",
    "    x.insert(i,rankProbFrequency[key]['rank'])\n",
    "    y.insert(i,rankProbFrequency[key]['frequency'])\n",
    "    i=+1\n",
    "\n",
    "plt.bar(x,y)"
   ]
  },
  {
   "cell_type": "markdown",
   "metadata": {},
   "source": [
    "Since the multiplication of rank and probability or rank and frequency of word occurence are almost closer to a constant valuse for most of the words, the chosen corpus follows the Zipf's law. Additionally, the bar plot of rank vs frequency of word shows that it follows the power law which is a variation of zipf law.\n",
    "\n"
   ]
  },
  {
   "cell_type": "code",
   "execution_count": 17,
   "metadata": {},
   "outputs": [
    {
     "name": "stdout",
     "output_type": "stream",
     "text": [
      "{'children': {'frequency': 10, 'probability': 0.00039271127866792333, 'rXp': 0.14059063776311656, 'rXf': 3580, 'rank': 358}, 'of': {'frequency': 499, 'probability': 0.019596292805529374, 'rXp': 0.156770342444235, 'rXf': 3992, 'rank': 8}, 'cried': {'frequency': 20, 'probability': 0.0007854225573358467, 'rXp': 0.14923028589381088, 'rXf': 3800, 'rank': 190}, 'i': {'frequency': 533, 'probability': 0.020931511153000314, 'rXp': 0.1465205780710022, 'rXf': 3731, 'rank': 7}, 'conversation': {'frequency': 10, 'probability': 0.00039271127866792333, 'rXp': 0.14019792648444862, 'rXf': 3570, 'rank': 357}, 'at': {'frequency': 209, 'probability': 0.008207665724159598, 'rXp': 0.13953031731071316, 'rXf': 3553, 'rank': 17}, 'caterpillar': {'frequency': 28, 'probability': 0.0010995915802701854, 'rXp': 0.1649387370405278, 'rXf': 4200, 'rank': 150}, 'child': {'frequency': 10, 'probability': 0.00039271127866792333, 'rXp': 0.14098334904178447, 'rXf': 3590, 'rank': 359}, 'can': {'frequency': 35, 'probability': 0.0013744894753377316, 'rXp': 0.169062205466541, 'rXf': 4305, 'rank': 123}, 'cook': {'frequency': 13, 'probability': 0.0005105246622683004, 'rXp': 0.1424363807728558, 'rXf': 3627, 'rank': 279}, 'creatures': {'frequency': 9, 'probability': 0.000353440150801131, 'rXp': 0.1367813383600377, 'rXf': 3483, 'rank': 387}, 'she': {'frequency': 544, 'probability': 0.02136349355953503, 'rXp': 0.10681746779767515, 'rXf': 2720, 'rank': 5}, 'change': {'frequency': 13, 'probability': 0.0005105246622683004, 'rXp': 0.1434574300973924, 'rXf': 3653, 'rank': 281}, 'court': {'frequency': 18, 'probability': 0.000706880301602262, 'rXp': 0.14773798303487276, 'rXf': 3762, 'rank': 209}, 'said': {'frequency': 462, 'probability': 0.01814326107445806, 'rXp': 0.16328934967012254, 'rXf': 4158, 'rank': 9}, 'continued': {'frequency': 9, 'probability': 0.000353440150801131, 'rXp': 0.13713477851083883, 'rXf': 3492, 'rank': 388}, 'so': {'frequency': 144, 'probability': 0.005655042412818096, 'rXp': 0.1357210179076343, 'rXf': 3456, 'rank': 24}, 'course': {'frequency': 25, 'probability': 0.0009817781966698083, 'rXp': 0.16199340245051835, 'rXf': 4125, 'rank': 165}, 'with': {'frequency': 179, 'probability': 0.007029531888155828, 'rXp': 0.14059063776311656, 'rXf': 3580, 'rank': 20}, 'cat': {'frequency': 36, 'probability': 0.001413760603204524, 'rXp': 0.17106503298774742, 'rXf': 4356, 'rank': 121}, 'chapter': {'frequency': 12, 'probability': 0.000471253534401508, 'rXp': 0.1423185673892554, 'rXf': 3624, 'rank': 302}, 'her': {'frequency': 248, 'probability': 0.0097392397109645, 'rXp': 0.155827835375432, 'rXf': 3968, 'rank': 16}, 'coming': {'frequency': 9, 'probability': 0.000353440150801131, 'rXp': 0.13748821866163996, 'rXf': 3501, 'rank': 389}, 'in': {'frequency': 359, 'probability': 0.014098334904178448, 'rXp': 0.1691800188501414, 'rXf': 4308, 'rank': 12}, 'alice': {'frequency': 396, 'probability': 0.015551366635249765, 'rXp': 0.15551366635249764, 'rXf': 3960, 'rank': 10}, 'be': {'frequency': 148, 'probability': 0.0058121269242852654, 'rXp': 0.12786679233427584, 'rXf': 3256, 'rank': 22}, 'ca': {'frequency': 24, 'probability': 0.000942507068803016, 'rXp': 0.1592836946277097, 'rXf': 4056, 'rank': 169}, 'a': {'frequency': 631, 'probability': 0.02478008168394596, 'rXp': 0.09912032673578385, 'rXf': 2524, 'rank': 4}, 'close': {'frequency': 13, 'probability': 0.0005105246622683004, 'rXp': 0.1429469054351241, 'rXf': 3640, 'rank': 280}, 'curious': {'frequency': 19, 'probability': 0.0007461514294690543, 'rXp': 0.14773798303487276, 'rXf': 3762, 'rank': 198}, 'that': {'frequency': 284, 'probability': 0.011153000314169022, 'rXp': 0.1561420043983663, 'rXf': 3976, 'rank': 14}, 'called': {'frequency': 15, 'probability': 0.000589066918001885, 'rXp': 0.14019792648444862, 'rXf': 3570, 'rank': 238}, 'and': {'frequency': 810, 'probability': 0.03180961357210179, 'rXp': 0.06361922714420358, 'rXf': 1620, 'rank': 2}, 'changed': {'frequency': 8, 'probability': 0.00031416902293433867, 'rXp': 0.13666352497643733, 'rXf': 3480, 'rank': 435}, 'was': {'frequency': 366, 'probability': 0.014373232799245994, 'rXp': 0.15810556079170593, 'rXf': 4026, 'rank': 11}, 'as': {'frequency': 256, 'probability': 0.010053408733898837, 'rXp': 0.15080113100848255, 'rXf': 3840, 'rank': 15}, 'for': {'frequency': 146, 'probability': 0.005733584668551681, 'rXp': 0.13187244737668866, 'rXf': 3358, 'rank': 23}, 'certainly': {'frequency': 13, 'probability': 0.0005105246622683004, 'rXp': 0.1439679547596607, 'rXf': 3666, 'rank': 282}, 'you': {'frequency': 356, 'probability': 0.013980521520578071, 'rXp': 0.18174677976751494, 'rXf': 4628, 'rank': 13}, 'cats': {'frequency': 13, 'probability': 0.0005105246622683004, 'rXp': 0.144478479421929, 'rXf': 3679, 'rank': 283}, 'came': {'frequency': 40, 'probability': 0.0015708451146716933, 'rXp': 0.17593465284322965, 'rXf': 4480, 'rank': 112}, 'very': {'frequency': 139, 'probability': 0.005458686773484134, 'rXp': 0.13646716933710334, 'rXf': 3475, 'rank': 25}, 'come': {'frequency': 31, 'probability': 0.0012174049638705624, 'rXp': 0.16313226515865537, 'rXf': 4154, 'rank': 134}, 'the': {'frequency': 1616, 'probability': 0.06346214263273642, 'rXp': 0.06346214263273642, 'rXf': 1616, 'rank': 1}, 'all': {'frequency': 178, 'probability': 0.006990260760289036, 'rXp': 0.14679547596606976, 'rXf': 3738, 'rank': 21}, 'it': {'frequency': 539, 'probability': 0.021167137920201067, 'rXp': 0.1270028275212064, 'rXf': 3234, 'rank': 6}, 'had': {'frequency': 184, 'probability': 0.007225887527489789, 'rXp': 0.137291863022306, 'rXf': 3496, 'rank': 19}, 'to': {'frequency': 720, 'probability': 0.02827521206409048, 'rXp': 0.08482563619227144, 'rXf': 2160, 'rank': 3}, 'could': {'frequency': 86, 'probability': 0.0033773169965441406, 'rXp': 0.15535658184103046, 'rXf': 3956, 'rank': 46}, 'on': {'frequency': 191, 'probability': 0.007500785422557336, 'rXp': 0.13501413760603204, 'rXf': 3438, 'rank': 18}}\n"
     ]
    }
   ],
   "source": [
    "print(rankProbFrequency)\n"
   ]
  },
  {
   "cell_type": "code",
   "execution_count": null,
   "metadata": {},
   "outputs": [],
   "source": []
  }
 ],
 "metadata": {
  "kernelspec": {
   "display_name": "Python 3",
   "language": "python",
   "name": "python3"
  },
  "language_info": {
   "codemirror_mode": {
    "name": "ipython",
    "version": 3
   },
   "file_extension": ".py",
   "mimetype": "text/x-python",
   "name": "python",
   "nbconvert_exporter": "python",
   "pygments_lexer": "ipython3",
   "version": "3.7.3"
  }
 },
 "nbformat": 4,
 "nbformat_minor": 2
}
